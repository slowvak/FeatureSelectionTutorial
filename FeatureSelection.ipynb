{
  "nbformat": 4,
  "nbformat_minor": 0,
  "metadata": {
    "colab": {
      "name": "FeatureSelection.ipynb",
      "provenance": [],
      "collapsed_sections": [],
      "toc_visible": true,
      "include_colab_link": true
    },
    "kernelspec": {
      "name": "python3",
      "display_name": "Python 3"
    }
  },
  "cells": [
    {
      "cell_type": "markdown",
      "metadata": {
        "id": "view-in-github",
        "colab_type": "text"
      },
      "source": [
        "<a href=\"https://colab.research.google.com/github/slowvak/FeatureSelectionTutorial/blob/main/FeatureSelection.ipynb\" target=\"_parent\"><img src=\"https://colab.research.google.com/assets/colab-badge.svg\" alt=\"Open In Colab\"/></a>"
      ]
    },
    {
      "cell_type": "markdown",
      "metadata": {
        "id": "JyG45Qk3qQLS"
      },
      "source": [
        "# A bit about Colab (Jupyter) Notebooks and Cells\n",
        "A notebook is a list of cells. Cells contain either explanatory text or executable code and its output. Click a cell to select it."
      ]
    },
    {
      "cell_type": "markdown",
      "metadata": {
        "id": "KR921S_OQSHG"
      },
      "source": [
        "## Code cells\n",
        "Below is a **code cell**. Click in the cell to select it and execute the contents in the following ways:\n",
        "\n",
        "* Click the **Play icon** in the left gutter of the cell;\n",
        "* Type **Cmd/Ctrl+Enter** to run the cell in place;\n",
        "* Type **Shift+Enter** to run the cell and move focus to the next cell (adding one if none exists); or\n",
        "* Type **Alt+Enter** to run the cell and insert a new code cell immediately below it.\n",
        "\n",
        "There are additional options for running some or all cells in the **Runtime** menu.\n"
      ]
    },
    {
      "cell_type": "code",
      "metadata": {
        "cellView": "both",
        "colab": {
          "base_uri": "https://localhost:8080/"
        },
        "id": "WUtu4316QSHL",
        "outputId": "a2663ec0-73e8-4053-d453-7af49cdc856c"
      },
      "source": [
        "a = 10\n",
        "a"
      ],
      "execution_count": 1,
      "outputs": [
        {
          "output_type": "execute_result",
          "data": {
            "text/plain": [
              "10"
            ]
          },
          "metadata": {
            "tags": []
          },
          "execution_count": 1
        }
      ]
    },
    {
      "cell_type": "markdown",
      "metadata": {
        "id": "Id6tDF1HQSHD"
      },
      "source": [
        "## Text cells\n",
        "This is a **text cell**. You can **double-click** to edit this cell. Text cells\n",
        "use markdown syntax. To learn more, see  [markdown\n",
        "guide](/notebooks/markdown_guide.ipynb).\n",
        "\n"
      ]
    },
    {
      "cell_type": "markdown",
      "metadata": {
        "id": "7bqjkGKwQSHW"
      },
      "source": [
        "## Adding and moving cells\n",
        "You can add new cells by using the **+ CODE** and **+ TEXT** buttons that are near the menu and also show when you hover between cells. These buttons add a cell below the currently selected cell.\n",
        "\n",
        "You can move a cell by selecting it and clicking **Cell Up** or **Cell Down** in the top toolbar or the up/down arrows in the toolbar at the upper right of a selected cell. \n",
        "\n",
        "Consecutive cells can be selected by \"lasso selection\" by dragging from outside one cell and through the group.  Non-adjacent cells can be selected concurrently by clicking one and then holding down Ctrl while clicking another.  Similarly, using Shift instead of Ctrl will select all intermediate cells."
      ]
    },
    {
      "cell_type": "markdown",
      "metadata": {
        "id": "GOwlZRXEQSHZ"
      },
      "source": [
        "# Working with python\n",
        "Colaboratory is built on top of [Jupyter Notebook](https://jupyter.org/). Below are some examples of convenience functions provided."
      ]
    },
    {
      "cell_type": "markdown",
      "metadata": {
        "id": "RVuqWUXPQSHa"
      },
      "source": [
        "A cell can be interrupted using the menu entry **Runtime -> Interrupt execution** (*hotkey: Cmd/Ctrl-M I*) to stop execution.\r\n",
        "Try it by running the cell below, and then interrupting it."
      ]
    },
    {
      "cell_type": "code",
      "metadata": {
        "cellView": "both",
        "colab": {
          "base_uri": "https://localhost:8080/"
        },
        "id": "d-S-3nYLQSHb",
        "outputId": "d6f5ad5f-051a-4aa6-d253-d8a30abc15d9"
      },
      "source": [
        "import time\n",
        "print(\"Sleeping--try to interrupt my sleep!\")\n",
        "time.sleep(30) # sleep for a while; interrupt me quick!\n",
        "print(\"Done Sleeping\")"
      ],
      "execution_count": 2,
      "outputs": [
        {
          "output_type": "stream",
          "text": [
            "Sleeping--try to interrupt my sleep!\n",
            "Done Sleeping\n"
          ],
          "name": "stdout"
        }
      ]
    },
    {
      "cell_type": "markdown",
      "metadata": {
        "id": "7cRnhv_7N4Pa"
      },
      "source": [
        "## Rich, interactive outputs\n",
        "Typically, the generated outputs are text, but they can be more interesting, like the chart below. "
      ]
    },
    {
      "cell_type": "code",
      "metadata": {
        "colab": {
          "base_uri": "https://localhost:8080/",
          "height": 281
        },
        "id": "JVXnTqyE9RET",
        "outputId": "0c31c6ac-9cda-437b-8cbc-571d44c8135a"
      },
      "source": [
        "import numpy as np\n",
        "from matplotlib import pyplot as plt\n",
        "\n",
        "ys = 200 + np.random.randn(20)\n",
        "x = [x for x in range(len(ys))]\n",
        "\n",
        "plt.plot(x, ys, '-')\n",
        "plt.fill_between(x, ys, 195, where=(ys > 195), facecolor='g', alpha=0.6)\n",
        "\n",
        "plt.title(\"Fills and Alpha Example\")\n",
        "plt.show()"
      ],
      "execution_count": 3,
      "outputs": [
        {
          "output_type": "display_data",
          "data": {
            "image/png": "[encoded data removed]",
            "text/plain": [
              "<Figure size 432x288 with 1 Axes>"
            ]
          },
          "metadata": {
            "tags": [],
            "needs_background": "light"
          }
        }
      ]
    },
    {
      "cell_type": "markdown",
      "metadata": {
        "id": "H3LY7NU6LERS"
      },
      "source": [
        "A unique feature of notebooks and cells that that the notebook 'remembers' what has been done up to that point. And you can run a cell, change something in that cell, and run it again (presumably to fix a problem in that cell). \r\n",
        "\r\n",
        "Modify the cell above to change it so 200 random numbers are plotted (change the '20' in the randn call to '200'). Then run the cell again and note the change. Note also that the number in brackets has increased--this shows to some degree--the sequence that cells were executed."
      ]
    },
    {
      "cell_type": "markdown",
      "metadata": {
        "id": "tODtqV5MZALR"
      },
      "source": [
        "#Feature Selection\n",
        "  Now we are ready to begin working on the specific topic at hand: feature selection.\n",
        "It uses the Pima Indians Diabetes Database.\n"
      ]
    },
    {
      "cell_type": "markdown",
      "metadata": {
        "id": "VN0x-3rwPALD"
      },
      "source": [
        "First we need to get our data. Notebooks allow us to execute computer commands (e.g. not Python). 'wget' is a command that will get resources from the web. In this case, it is a file I have stored on my Dropbox."
      ]
    },
    {
      "cell_type": "code",
      "metadata": {
        "colab": {
          "base_uri": "https://localhost:8080/"
        },
        "id": "QU2f05csZPqd",
        "outputId": "c36ac80d-649e-4314-a40a-193253e8179b"
      },
      "source": [
        "!wget -O diabetes.csv \"https://www.dropbox.com/s/hr9b5rkjblrtu44/pima-indians-diabetes.csv?dl=1\"\n"
      ],
      "execution_count": 4,
      "outputs": [
        {
          "output_type": "stream",
          "text": [
            "--2021-02-16 02:43:51--  https://www.dropbox.com/s/hr9b5rkjblrtu44/pima-indians-diabetes.csv?dl=1\n",
            "Resolving www.dropbox.com (www.dropbox.com)... 162.125.1.18, 2620:100:6016:18::a27d:112\n",
            "Connecting to www.dropbox.com (www.dropbox.com)|162.125.1.18|:443... connected.\n",
            "HTTP request sent, awaiting response... 301 Moved Permanently\n",
            "Location: /s/dl/hr9b5rkjblrtu44/pima-indians-diabetes.csv [following]\n",
            "--2021-02-16 02:43:52--  https://www.dropbox.com/s/dl/hr9b5rkjblrtu44/pima-indians-diabetes.csv\n",
            "Reusing existing connection to www.dropbox.com:443.\n",
            "HTTP request sent, awaiting response... 302 Found\n",
            "Location: https://uc89f18a3bddd63292a3ae87bffa.dl.dropboxusercontent.com/cd/0/get/BJA35oRWxofW0SgIFzuNwjsxEfmRfPVLUhBzj1QAb3QL5RsIpY0zTz6iS5uzeYwBsapsGnraDh2jIHTdj1wM3RxXofDPPoPmEyQrf8JmiGFD9nqIG4cd7VFl5sxc6nipzm8/file?dl=1# [following]\n",
            "--2021-02-16 02:43:52--  https://uc89f18a3bddd63292a3ae87bffa.dl.dropboxusercontent.com/cd/0/get/BJA35oRWxofW0SgIFzuNwjsxEfmRfPVLUhBzj1QAb3QL5RsIpY0zTz6iS5uzeYwBsapsGnraDh2jIHTdj1wM3RxXofDPPoPmEyQrf8JmiGFD9nqIG4cd7VFl5sxc6nipzm8/file?dl=1\n",
            "Resolving uc89f18a3bddd63292a3ae87bffa.dl.dropboxusercontent.com (uc89f18a3bddd63292a3ae87bffa.dl.dropboxusercontent.com)... 162.125.1.15, 2620:100:6016:15::a27d:10f\n",
            "Connecting to uc89f18a3bddd63292a3ae87bffa.dl.dropboxusercontent.com (uc89f18a3bddd63292a3ae87bffa.dl.dropboxusercontent.com)|162.125.1.15|:443... connected.\n",
            "HTTP request sent, awaiting response... 200 OK\n",
            "Length: 23870 (23K) [application/binary]\n",
            "Saving to: ‘diabetes.csv’\n",
            "\n",
            "diabetes.csv        100%[===================>]  23.31K  --.-KB/s    in 0.006s  \n",
            "\n",
            "2021-02-16 02:43:52 (4.02 MB/s) - ‘diabetes.csv’ saved [23870/23870]\n",
            "\n"
          ],
          "name": "stdout"
        }
      ]
    },
    {
      "cell_type": "code",
      "metadata": {
        "id": "HwdULv8jY78Q"
      },
      "source": [
        "import pandas as pd\n",
        "import numpy as np"
      ],
      "execution_count": 5,
      "outputs": []
    },
    {
      "cell_type": "markdown",
      "metadata": {
        "id": "xrnlsx3yPeaK"
      },
      "source": [
        "Now we ***import*** two libraries that provide important data handling capabilities--first being **pandas**, which will read in a CSV (Comma Separated Values) file and use it to fill a **dataframe**. The file also has a first row which describes the data in each column. Pandas is 'smart' enough to recognize this. **Numpy** is a library for numerical computations on arrays.\r\n",
        "  The 'as' part of the import command allows us to use our own name for any module that we import. 'pd' and 'np' are very common abbreviations used for pandas and numpy.\r\n",
        "\r\n",
        "**Interesting Side Note: **  Numpy was written by former Mayo Graduate Student Travis Oliphant. https://en.wikipedia.org/wiki/Travis_Oliphant"
      ]
    },
    {
      "cell_type": "code",
      "metadata": {
        "colab": {
          "base_uri": "https://localhost:8080/",
          "height": 419
        },
        "id": "7SvmUIleZibg",
        "outputId": "c17a6214-a62f-4f26-a2e5-90a81fbdab58"
      },
      "source": [
        "data = pd.read_csv(\"diabetes.csv\")\n",
        "# print out the first few lines to make sure we got the data and that it looks reasonable\n",
        "\n",
        "data \n"
      ],
      "execution_count": 6,
      "outputs": [
        {
          "output_type": "execute_result",
          "data": {
            "text/html": [
              "<div>\n",
              "<style scoped>\n",
              "    .dataframe tbody tr th:only-of-type {\n",
              "        vertical-align: middle;\n",
              "    }\n",
              "\n",
              "    .dataframe tbody tr th {\n",
              "        vertical-align: top;\n",
              "    }\n",
              "\n",
              "    .dataframe thead th {\n",
              "        text-align: right;\n",
              "    }\n",
              "</style>\n",
              "<table border=\"1\" class=\"dataframe\">\n",
              "  <thead>\n",
              "    <tr style=\"text-align: right;\">\n",
              "      <th></th>\n",
              "      <th>Pregnances</th>\n",
              "      <th>Glucose</th>\n",
              "      <th>BloodPressure</th>\n",
              "      <th>SkinThickness</th>\n",
              "      <th>Insulin</th>\n",
              "      <th>BMI</th>\n",
              "      <th>DiabetesPedigreeFunction</th>\n",
              "      <th>Age</th>\n",
              "      <th>Class</th>\n",
              "    </tr>\n",
              "  </thead>\n",
              "  <tbody>\n",
              "    <tr>\n",
              "      <th>0</th>\n",
              "      <td>6</td>\n",
              "      <td>148</td>\n",
              "      <td>72</td>\n",
              "      <td>35</td>\n",
              "      <td>0</td>\n",
              "      <td>33.6</td>\n",
              "      <td>0.627</td>\n",
              "      <td>50</td>\n",
              "      <td>1</td>\n",
              "    </tr>\n",
              "    <tr>\n",
              "      <th>1</th>\n",
              "      <td>1</td>\n",
              "      <td>85</td>\n",
              "      <td>66</td>\n",
              "      <td>29</td>\n",
              "      <td>0</td>\n",
              "      <td>26.6</td>\n",
              "      <td>0.351</td>\n",
              "      <td>31</td>\n",
              "      <td>0</td>\n",
              "    </tr>\n",
              "    <tr>\n",
              "      <th>2</th>\n",
              "      <td>8</td>\n",
              "      <td>183</td>\n",
              "      <td>64</td>\n",
              "      <td>0</td>\n",
              "      <td>0</td>\n",
              "      <td>23.3</td>\n",
              "      <td>0.672</td>\n",
              "      <td>32</td>\n",
              "      <td>1</td>\n",
              "    </tr>\n",
              "    <tr>\n",
              "      <th>3</th>\n",
              "      <td>1</td>\n",
              "      <td>89</td>\n",
              "      <td>66</td>\n",
              "      <td>23</td>\n",
              "      <td>94</td>\n",
              "      <td>28.1</td>\n",
              "      <td>0.167</td>\n",
              "      <td>21</td>\n",
              "      <td>0</td>\n",
              "    </tr>\n",
              "    <tr>\n",
              "      <th>4</th>\n",
              "      <td>0</td>\n",
              "      <td>137</td>\n",
              "      <td>40</td>\n",
              "      <td>35</td>\n",
              "      <td>168</td>\n",
              "      <td>43.1</td>\n",
              "      <td>2.288</td>\n",
              "      <td>33</td>\n",
              "      <td>1</td>\n",
              "    </tr>\n",
              "    <tr>\n",
              "      <th>...</th>\n",
              "      <td>...</td>\n",
              "      <td>...</td>\n",
              "      <td>...</td>\n",
              "      <td>...</td>\n",
              "      <td>...</td>\n",
              "      <td>...</td>\n",
              "      <td>...</td>\n",
              "      <td>...</td>\n",
              "      <td>...</td>\n",
              "    </tr>\n",
              "    <tr>\n",
              "      <th>763</th>\n",
              "      <td>10</td>\n",
              "      <td>101</td>\n",
              "      <td>76</td>\n",
              "      <td>48</td>\n",
              "      <td>180</td>\n",
              "      <td>32.9</td>\n",
              "      <td>0.171</td>\n",
              "      <td>63</td>\n",
              "      <td>0</td>\n",
              "    </tr>\n",
              "    <tr>\n",
              "      <th>764</th>\n",
              "      <td>2</td>\n",
              "      <td>122</td>\n",
              "      <td>70</td>\n",
              "      <td>27</td>\n",
              "      <td>0</td>\n",
              "      <td>36.8</td>\n",
              "      <td>0.340</td>\n",
              "      <td>27</td>\n",
              "      <td>0</td>\n",
              "    </tr>\n",
              "    <tr>\n",
              "      <th>765</th>\n",
              "      <td>5</td>\n",
              "      <td>121</td>\n",
              "      <td>72</td>\n",
              "      <td>23</td>\n",
              "      <td>112</td>\n",
              "      <td>26.2</td>\n",
              "      <td>0.245</td>\n",
              "      <td>30</td>\n",
              "      <td>0</td>\n",
              "    </tr>\n",
              "    <tr>\n",
              "      <th>766</th>\n",
              "      <td>1</td>\n",
              "      <td>126</td>\n",
              "      <td>60</td>\n",
              "      <td>0</td>\n",
              "      <td>0</td>\n",
              "      <td>30.1</td>\n",
              "      <td>0.349</td>\n",
              "      <td>47</td>\n",
              "      <td>1</td>\n",
              "    </tr>\n",
              "    <tr>\n",
              "      <th>767</th>\n",
              "      <td>1</td>\n",
              "      <td>93</td>\n",
              "      <td>70</td>\n",
              "      <td>31</td>\n",
              "      <td>0</td>\n",
              "      <td>30.4</td>\n",
              "      <td>0.315</td>\n",
              "      <td>23</td>\n",
              "      <td>0</td>\n",
              "    </tr>\n",
              "  </tbody>\n",
              "</table>\n",
              "<p>768 rows × 9 columns</p>\n",
              "</div>"
            ],
            "text/plain": [
              "     Pregnances  Glucose  BloodPressure  ...  DiabetesPedigreeFunction  Age  Class\n",
              "0             6      148             72  ...                     0.627   50      1\n",
              "1             1       85             66  ...                     0.351   31      0\n",
              "2             8      183             64  ...                     0.672   32      1\n",
              "3             1       89             66  ...                     0.167   21      0\n",
              "4             0      137             40  ...                     2.288   33      1\n",
              "..          ...      ...            ...  ...                       ...  ...    ...\n",
              "763          10      101             76  ...                     0.171   63      0\n",
              "764           2      122             70  ...                     0.340   27      0\n",
              "765           5      121             72  ...                     0.245   30      0\n",
              "766           1      126             60  ...                     0.349   47      1\n",
              "767           1       93             70  ...                     0.315   23      0\n",
              "\n",
              "[768 rows x 9 columns]"
            ]
          },
          "metadata": {
            "tags": []
          },
          "execution_count": 6
        }
      ]
    },
    {
      "cell_type": "markdown",
      "metadata": {
        "id": "DxpdF7b8NY24"
      },
      "source": [
        "The last line here--'data'--is what prineted out the first few and the last few lines in the pandas dataframe called 'data'. This is a unique jupyter notebook function--if you just have a variable name, it will print it out. But it only is the last variable.  Remember up above you defined the variable 'a'? Add 'a' to line 5 and run the cell again. Now the data dataframe will not be printed, and instead, '10' will be printed since that is the value of a. This will not work in 'true' Python code.\r\n",
        "\r\n",
        "\r\n",
        "Next we import modules for visualizing data and making plots. \r\n",
        "Here will do a quick plot to see the correlation coefficients of the various features in the data. "
      ]
    },
    {
      "cell_type": "code",
      "metadata": {
        "colab": {
          "base_uri": "https://localhost:8080/",
          "height": 716
        },
        "id": "E65snQJYaEce",
        "outputId": "14b07f90-55d8-4bd1-c49c-4e1d58d1d2e4"
      },
      "source": [
        "import matplotlib\n",
        "import matplotlib.pyplot as plt\n",
        "import seaborn as sns\n",
        "\n",
        "#Lets look at how much the various features are correlated using Pearson Correlation\n",
        "plt.figure(figsize=(12,10))\n",
        "cor = data.corr()\n",
        "sns.heatmap(cor, annot=True, cmap=plt.cm.Reds)\n",
        "plt.show()"
      ],
      "execution_count": 7,
      "outputs": [
        {
          "output_type": "display_data",
          "data": {
            "image/png": "[encoded data removed]",
            "text/plain": [
              "<Figure size 864x720 with 2 Axes>"
            ]
          },
          "metadata": {
            "tags": [],
            "needs_background": "light"
          }
        }
      ]
    },
    {
      "cell_type": "markdown",
      "metadata": {
        "id": "ecDU_SWerUzn"
      },
      "source": [
        "To do machine learning, we must convert the dataframe into a set of feature vectors (usually called 'X') and the class or label which we will call 'y', which in our case is 1-diabetic 0-not diabetic.\n"
      ]
    },
    {
      "cell_type": "code",
      "metadata": {
        "colab": {
          "base_uri": "https://localhost:8080/"
        },
        "id": "zFAcUoporTc5",
        "outputId": "c33b483c-4520-47b8-8ffc-42ea77055564"
      },
      "source": [
        "array = data.values\n",
        "X = array[:,0:8]\n",
        "y = array[:,8]\n",
        "\n",
        "#print out the shape of the X feature array--number of features and number of rows/examples\n",
        "X.shape"
      ],
      "execution_count": 8,
      "outputs": [
        {
          "output_type": "execute_result",
          "data": {
            "text/plain": [
              "(768, 8)"
            ]
          },
          "metadata": {
            "tags": []
          },
          "execution_count": 8
        }
      ]
    },
    {
      "cell_type": "markdown",
      "metadata": {
        "id": "WxTZpUi_1mZr"
      },
      "source": [
        "Note it also has 768 rows (note this is rows/cols not x,y). But there is 1 less column. Why is there 1 less and how did that happen?\n",
        "\n",
        "\n",
        "Now with our data organized, we can try training a classifier. We will start with that to show the impact of feature selection. We will use a Rdige Classifier, which is essentially a linar regression and the regression lines splits the classes.  I include code for a support vector machine (SVM) which is a popular traditional machine learning method that is much more powerful. We also need to split data into a set used to train the SVM, and a hold-out set to see how well it worked (the 'test' set). \n",
        "\n",
        "sklearn is a very comprehence library of machine learning algorithms. (https://scikit-learn.org/stable/)  There are other scikit libraries such as for image manipulation, statistics, engineering, etc. SciPy.org is the host site.\n"
      ]
    },
    {
      "cell_type": "code",
      "metadata": {
        "colab": {
          "base_uri": "https://localhost:8080/"
        },
        "id": "pOXYnmET2Tzn",
        "outputId": "0b10fa88-c920-484e-91a2-f86ee37ae7e0"
      },
      "source": [
        "# Import train_test_split function\n",
        "from sklearn.model_selection import train_test_split\n",
        "from sklearn import metrics\n",
        "from sklearn.linear_model import RidgeClassifier\n",
        "from sklearn import svm\n",
        "\n",
        "# define a function that will train a classifier and then measure performance\n",
        "\n",
        "def train_and_measure_performance(X, y):\n",
        "    X_train, X_test, y_train, y_test = train_test_split(X, y, test_size=0.3, random_state=109) # 70% training and 30% test\n",
        "    #Create a svm Classifier\n",
        "    clf = RidgeClassifier()\n",
        "#    clf = svm.SVC(kernel='linear') # Linear Kernel\n",
        "\n",
        "    #Train the model using the training sets\n",
        "    clf.fit(X_train, y_train)\n",
        "\n",
        "    #Predict the response for test dataset\n",
        "    y_pred = clf.predict(X_test)\n",
        "    # Model Accuracy: how often is the classifier correct?\n",
        "    return (metrics.accuracy_score(y_test, y_pred))\n",
        "\n",
        "baseline_performance = train_and_measure_performance(X, y)\n",
        "print (f'Baseline accuracy with all features is {baseline_performance}')"
      ],
      "execution_count": 9,
      "outputs": [
        {
          "output_type": "stream",
          "text": [
            "Baseline accuracy with all features is 0.7359307359307359\n"
          ],
          "name": "stdout"
        }
      ]
    },
    {
      "cell_type": "markdown",
      "metadata": {
        "id": "DU9xp04Nrmhr"
      },
      "source": [
        "Now we will use sklearn feature selection methods. We will start with filter method--Chi Square"
      ]
    },
    {
      "cell_type": "code",
      "metadata": {
        "colab": {
          "base_uri": "https://localhost:8080/"
        },
        "id": "WbpWIQDXtNh6",
        "outputId": "8f6e7a97-ae8b-436e-d9fb-347022456556"
      },
      "source": [
        "\n",
        "from sklearn.feature_selection import SelectKBest\n",
        "from sklearn.feature_selection import chi2\n",
        "\n",
        "X_train, X_test, y_train, y_test = train_test_split(X, y, test_size=0.3, random_state=109) # 70% training and 30% test\n",
        "\n",
        "# Feature extraction--select the 4 best features\n",
        "test = SelectKBest(score_func=chi2, k=4)\n",
        "fit = test.fit(X_train, y_train)\n",
        "\n",
        "# Summarize scores\n",
        "np.set_printoptions(precision=3)\n",
        "feature_names = data.columns[0:8]\n",
        "\n",
        "for i, feature in enumerate (feature_names):\n",
        "    print (f'{fit.scores_[i]}, {feature}') \n",
        "#print (feature_names)\n",
        "#print(fit.scores_)\n",
        "\n"
      ],
      "execution_count": 10,
      "outputs": [
        {
          "output_type": "stream",
          "text": [
            "87.43079122224427, Pregnances\n",
            "895.4803367623492, Glucose\n",
            "7.70006972896644, BloodPressure\n",
            "10.28703358882846, SkinThickness\n",
            "1138.1827439428018, Insulin\n",
            "77.17341015708607, BMI\n",
            "4.168845212891903, DiabetesPedigreeFunction\n",
            "154.1812563953612, Age\n"
          ],
          "name": "stdout"
        }
      ]
    },
    {
      "cell_type": "markdown",
      "metadata": {
        "id": "q3NQxQs0xIdw"
      },
      "source": [
        "So this means that ranked feature importance is: Insulin, Glucose, Age, BMI, Pregnancies, Skin thickness, BP, Pedigree\r\n",
        "\r\n",
        "But you have to look fairly closely to figure out the order. Can the computer do that for us?  There is a python function called 'sorted' which returns a sorted list of the items in the list. "
      ]
    },
    {
      "cell_type": "code",
      "metadata": {
        "colab": {
          "base_uri": "https://localhost:8080/"
        },
        "id": "6qnRg_KWUuUG",
        "outputId": "20760109-3447-4a69-bd1b-5a5bc2c3f692"
      },
      "source": [
        "sorted_scores = sorted(fit.scores_)\r\n",
        "print (sorted_scores)\r\n"
      ],
      "execution_count": 11,
      "outputs": [
        {
          "output_type": "stream",
          "text": [
            "[4.168845212891903, 7.70006972896644, 10.28703358882846, 77.17341015708607, 87.43079122224427, 154.1812563953612, 895.4803367623492, 1138.1827439428018]\n"
          ],
          "name": "stdout"
        }
      ]
    },
    {
      "cell_type": "markdown",
      "metadata": {
        "id": "4mTuygBdWEDf"
      },
      "source": [
        "OK--that sorted the list of values, but we need to re-arrange the feature names to match those. In order to do that, we 'zip' the two lists together, then sort, and then print them out."
      ]
    },
    {
      "cell_type": "code",
      "metadata": {
        "colab": {
          "base_uri": "https://localhost:8080/"
        },
        "id": "C10aiEpkVEdx",
        "outputId": "d92a1369-a6a9-4988-b22c-a340f4794260"
      },
      "source": [
        "zipped_lists = zip(fit.scores_, feature_names)\r\n",
        "sorted_pairs = sorted(zipped_lists)\r\n",
        "for f, val in sorted_pairs:\r\n",
        "    print (f'{f} - {val}')"
      ],
      "execution_count": 12,
      "outputs": [
        {
          "output_type": "stream",
          "text": [
            "4.168845212891903 - DiabetesPedigreeFunction\n",
            "7.70006972896644 - BloodPressure\n",
            "10.28703358882846 - SkinThickness\n",
            "77.17341015708607 - BMI\n",
            "87.43079122224427 - Pregnances\n",
            "154.1812563953612 - Age\n",
            "895.4803367623492 - Glucose\n",
            "1138.1827439428018 - Insulin\n"
          ],
          "name": "stdout"
        }
      ]
    },
    {
      "cell_type": "markdown",
      "metadata": {
        "id": "Wd2kgQYCWh3b"
      },
      "source": [
        "That looks pretty good, except maybe we want 'style points'. See if you can figure out how to reverse the order so the most important is on top. And only show the top 5..."
      ]
    },
    {
      "cell_type": "code",
      "metadata": {
        "colab": {
          "base_uri": "https://localhost:8080/"
        },
        "id": "z4URvvA-3Prk",
        "outputId": "2a4a6957-22c1-47e0-ec99-a6c5fa15d5f7"
      },
      "source": [
        "# Make a copy of the data for Chi-squared method...\n",
        "#First, need to remove the 'class' column since that is the answer\n",
        "chi_df = data.drop(columns=[\"Class\"])\n",
        "\n",
        "# delete the columns we don't want\n",
        "chi_df = chi_df.drop(columns=[\"BloodPressure\",\"SkinThickness\",\"DiabetesPedigreeFunction\"])\n",
        "\n",
        "d_chi = chi_df.values \n",
        "X_1 = d_chi[:,:]\n",
        "\n",
        "perf = train_and_measure_performance(X_1, y)\n",
        "print (f'Accuracy with best features using Chi-square is {perf}')\n",
        "\n",
        "# TODO: you try adding or removing features and see the impact on performance"
      ],
      "execution_count": 13,
      "outputs": [
        {
          "output_type": "stream",
          "text": [
            "Accuracy with best features using Chi-square is 0.7532467532467533\n"
          ],
          "name": "stdout"
        }
      ]
    },
    {
      "cell_type": "markdown",
      "metadata": {
        "id": "MlZzSQINv7CF"
      },
      "source": [
        "Next we will apply a wrapper method--Recursive Feature Elimination or RFE"
      ]
    },
    {
      "cell_type": "code",
      "metadata": {
        "colab": {
          "base_uri": "https://localhost:8080/"
        },
        "id": "xHT9SXeWv6F4",
        "outputId": "1961eb9f-71b0-481d-bc76-4a74dc54ab9d"
      },
      "source": [
        "# Import your necessary dependencies\n",
        "from sklearn.feature_selection import RFE\n",
        "from sklearn.svm import SVR\n",
        "from sklearn.linear_model import LogisticRegression\n",
        "\n",
        "estimator = SVR(kernel=\"linear\")\n",
        "# we will ask for the top 4 features\n",
        "selector = RFE(estimator, n_features_to_select=3, step=1)\n",
        "selector = selector.fit(X_train, y_train)\n",
        "print(selector.support_)\n",
        "rank=selector.ranking_\n",
        "print (\"Or if you want to see the ranking of those that didn't make the cut...\")\n",
        "print(rank)\n"
      ],
      "execution_count": 14,
      "outputs": [
        {
          "output_type": "stream",
          "text": [
            "[ True False False False False  True  True False]\n",
            "Or if you want to see the ranking of those that didn't make the cut...\n",
            "[1 2 4 5 6 1 1 3]\n"
          ],
          "name": "stdout"
        }
      ]
    },
    {
      "cell_type": "code",
      "metadata": {
        "colab": {
          "base_uri": "https://localhost:8080/"
        },
        "id": "mhkqH8LtPTg_",
        "outputId": "9ad5c5e7-87f7-4549-ea19-a3f949b3eeae"
      },
      "source": [
        "\n",
        "# drop all columns not '1'\n",
        "X_1 = data.drop(data.columns[8], axis=1)  # get rid of 'class'\n",
        "for i in range(7):\n",
        "    if selector.support_[i] == False:\n",
        "        X_1 = X_1.drop(X_1.columns[i], axis=1)\n",
        "\n",
        "perf = train_and_measure_performance(X_1, y)\n",
        "print (f'Accuracy with best features using RFE is {perf}')"
      ],
      "execution_count": 15,
      "outputs": [
        {
          "output_type": "stream",
          "text": [
            "Accuracy with best features using RFE is 0.7012987012987013\n"
          ],
          "name": "stdout"
        }
      ]
    },
    {
      "cell_type": "code",
      "metadata": {
        "colab": {
          "base_uri": "https://localhost:8080/"
        },
        "id": "Su0DKjpNSgJs",
        "outputId": "779d63d2-8738-4f2e-ba29-b7a2629228d7"
      },
      "source": [
        "# nof - number of features that we have\n",
        "nof=8\n",
        "nof_list=np.arange(1,nof)            \n",
        "high_score=0\n",
        "from sklearn.linear_model import LinearRegression\n",
        "\n",
        "score_list =[]\n",
        "best_nof = 0\n",
        "for n in range(nof-1):\n",
        "    model = LinearRegression()\n",
        "    rfe = RFE(model,nof_list[n])\n",
        "    X_train_rfe = rfe.fit_transform(X_train,y_train)\n",
        "    X_test_rfe = rfe.transform(X_test)\n",
        "    model.fit(X_train_rfe,y_train)\n",
        "    score = model.score(X_test_rfe,y_test)\n",
        "    score_list.append(score)\n",
        "    print(f\"Optimal case: {best_nof} features, scoring {high_score}\")\n",
        "    if(score>high_score):\n",
        "        high_score = score\n",
        "        best_nof = nof_list[n]\n",
        "\n",
        "print(f\"Optimal case: {nof} features, scoring {high_score}\")"
      ],
      "execution_count": 16,
      "outputs": [
        {
          "output_type": "stream",
          "text": [
            "Optimal case: 0 features, scoring 0\n",
            "Optimal case: 1 features, scoring 0.02809288404839605\n",
            "Optimal case: 2 features, scoring 0.07273668864458915\n",
            "Optimal case: 3 features, scoring 0.14942647398600928\n",
            "Optimal case: 4 features, scoring 0.2983161933716696\n",
            "Optimal case: 4 features, scoring 0.2983161933716696\n",
            "Optimal case: 4 features, scoring 0.2983161933716696\n",
            "Optimal case: 8 features, scoring 0.2983161933716696\n"
          ],
          "name": "stdout"
        }
      ]
    },
    {
      "cell_type": "markdown",
      "metadata": {
        "id": "aYemiTeWDvCW"
      },
      "source": [
        "Now lets try an embedded model. Remember, it gets the name 'embedded' because the feature reduction is included in the machine learning algorithm, so there is no seperate step of selecting the features and then training the classifier."
      ]
    },
    {
      "cell_type": "code",
      "metadata": {
        "colab": {
          "base_uri": "https://localhost:8080/",
          "height": 675
        },
        "id": "Ovr0LZ1MdOvj",
        "outputId": "45f6e57a-d673-43ed-cd46-b220d5615f47"
      },
      "source": [
        "from sklearn.linear_model import LassoCV\n",
        "\n",
        "reg = LassoCV()\n",
        "reg.fit(X_train, y_train)\n",
        "print(\"Best alpha using built-in LassoCV: %f\" % reg.alpha_)\n",
        "print(\"Best score using built-in LassoCV: %f\" %reg.score(X,y))\n",
        "\n",
        "coef = pd.Series(reg.coef_, index = data.columns[0:8])\n",
        "\n",
        "print(\"Lasso picked \" + str(sum(coef != 0)) + \" variables and eliminated the other \" +  str(sum(coef == 0)) + \" variables\")\n",
        "\n",
        "imp_coef = coef.sort_values()\n",
        "import matplotlib\n",
        "matplotlib.rcParams['figure.figsize'] = (8.0, 10.0)\n",
        "imp_coef.plot(kind = \"barh\")\n",
        "plt.title(\"Feature importance using Lasso Model\")\n"
      ],
      "execution_count": 17,
      "outputs": [
        {
          "output_type": "stream",
          "text": [
            "Best alpha using built-in LassoCV: 0.020738\n",
            "Best score using built-in LassoCV: 0.291466\n",
            "Lasso picked 6 variables and eliminated the other 2 variables\n"
          ],
          "name": "stdout"
        },
        {
          "output_type": "execute_result",
          "data": {
            "text/plain": [
              "Text(0.5, 1.0, 'Feature importance using Lasso Model')"
            ]
          },
          "metadata": {
            "tags": []
          },
          "execution_count": 17
        },
        {
          "output_type": "display_data",
          "data": {
            "image/png": "[encoded data removed]",
            "text/plain": [
              "<Figure size 576x720 with 1 Axes>"
            ]
          },
          "metadata": {
            "tags": [],
            "needs_background": "light"
          }
        }
      ]
    },
    {
      "cell_type": "markdown",
      "metadata": {
        "id": "y6sv49oK6GC1"
      },
      "source": [
        "#Feature Engineering#\r\n",
        "  The above has focused on the relative importance of features to making an accurate prediction. For some types of machine learning, the way features are represented can also matter. Adjusting features so that they are in a form that promotes the best overall prediction from a set of features is called **feature engineering**. \r\n",
        "  Feature engineering is where we manipulate a feature in order to make it more informative or to 'behave better' relative to other features. FOr instance, some machine learning algorithms are sensitive to the magnitude of the values of the features, and so we often 'normalize' the values so that all features have a range from 0 to 1, or have a mean value of 0, and that a value of 1 is 1 standard deviation in the original value range. What are some reasons you might NOT want to do this?\r\n",
        "\r\n",
        "  For this section, we will grab a CSV with heights, weights, and 'obesity class' for 500 hypothetical people."
      ]
    },
    {
      "cell_type": "code",
      "metadata": {
        "colab": {
          "base_uri": "https://localhost:8080/"
        },
        "id": "Yh0xzlGH9Ybn",
        "outputId": "9547fa74-c364-4e81-be54-d52e7b2a506d"
      },
      "source": [
        "!wget -O Ht_Wt.csv \"https://www.dropbox.com/s/kf7mw2uhmkpt656/BJE_Height_Weight.csv?dl=1\""
      ],
      "execution_count": 18,
      "outputs": [
        {
          "output_type": "stream",
          "text": [
            "--2021-02-16 02:44:24--  https://www.dropbox.com/s/kf7mw2uhmkpt656/BJE_Height_Weight.csv?dl=1\n",
            "Resolving www.dropbox.com (www.dropbox.com)... 162.125.1.18, 2620:100:6016:18::a27d:112\n",
            "Connecting to www.dropbox.com (www.dropbox.com)|162.125.1.18|:443... connected.\n",
            "HTTP request sent, awaiting response... 301 Moved Permanently\n",
            "Location: /s/dl/kf7mw2uhmkpt656/BJE_Height_Weight.csv [following]\n",
            "--2021-02-16 02:44:25--  https://www.dropbox.com/s/dl/kf7mw2uhmkpt656/BJE_Height_Weight.csv\n",
            "Reusing existing connection to www.dropbox.com:443.\n",
            "HTTP request sent, awaiting response... 302 Found\n",
            "Location: https://ucdf2b51580c9c4894898f679425.dl.dropboxusercontent.com/cd/0/get/BJAPQwQqqEUKRZZ-euu3ahXIGN3OyMm3iSOyH-zOTM4lHP1thhp3tn5AKdUwgDRKAXOFMt_TFxHX9ISTK4Mh09cb2GLswQQB4Jvo9rvt5bOMKGZnjSSDBSTYIRHYPAXRzIY/file?dl=1# [following]\n",
            "--2021-02-16 02:44:25--  https://ucdf2b51580c9c4894898f679425.dl.dropboxusercontent.com/cd/0/get/BJAPQwQqqEUKRZZ-euu3ahXIGN3OyMm3iSOyH-zOTM4lHP1thhp3tn5AKdUwgDRKAXOFMt_TFxHX9ISTK4Mh09cb2GLswQQB4Jvo9rvt5bOMKGZnjSSDBSTYIRHYPAXRzIY/file?dl=1\n",
            "Resolving ucdf2b51580c9c4894898f679425.dl.dropboxusercontent.com (ucdf2b51580c9c4894898f679425.dl.dropboxusercontent.com)... 162.125.1.15, 2620:100:6016:15::a27d:10f\n",
            "Connecting to ucdf2b51580c9c4894898f679425.dl.dropboxusercontent.com (ucdf2b51580c9c4894898f679425.dl.dropboxusercontent.com)|162.125.1.15|:443... connected.\n",
            "HTTP request sent, awaiting response... 200 OK\n",
            "Length: 10905 (11K) [application/binary]\n",
            "Saving to: ‘Ht_Wt.csv’\n",
            "\n",
            "Ht_Wt.csv           100%[===================>]  10.65K  --.-KB/s    in 0s      \n",
            "\n",
            "2021-02-16 02:44:25 (82.0 MB/s) - ‘Ht_Wt.csv’ saved [10905/10905]\n",
            "\n"
          ],
          "name": "stdout"
        }
      ]
    },
    {
      "cell_type": "code",
      "metadata": {
        "colab": {
          "base_uri": "https://localhost:8080/",
          "height": 419
        },
        "id": "w4stJPo6-FLW",
        "outputId": "fb97fd25-b286-4709-e594-385b2da3e33b"
      },
      "source": [
        "HtWt = pd.read_csv(\"./Ht_Wt.csv\")\r\n",
        "# print out the first few lines to make sure we got the data and that it looks reasonable\r\n",
        "\r\n",
        "HtWt"
      ],
      "execution_count": 19,
      "outputs": [
        {
          "output_type": "execute_result",
          "data": {
            "text/html": [
              "<div>\n",
              "<style scoped>\n",
              "    .dataframe tbody tr th:only-of-type {\n",
              "        vertical-align: middle;\n",
              "    }\n",
              "\n",
              "    .dataframe tbody tr th {\n",
              "        vertical-align: top;\n",
              "    }\n",
              "\n",
              "    .dataframe thead th {\n",
              "        text-align: right;\n",
              "    }\n",
              "</style>\n",
              "<table border=\"1\" class=\"dataframe\">\n",
              "  <thead>\n",
              "    <tr style=\"text-align: right;\">\n",
              "      <th></th>\n",
              "      <th>Gender</th>\n",
              "      <th>Height</th>\n",
              "      <th>Weight</th>\n",
              "      <th>BodyType</th>\n",
              "    </tr>\n",
              "  </thead>\n",
              "  <tbody>\n",
              "    <tr>\n",
              "      <th>0</th>\n",
              "      <td>Female</td>\n",
              "      <td>140</td>\n",
              "      <td>146</td>\n",
              "      <td>NONOBESE</td>\n",
              "    </tr>\n",
              "    <tr>\n",
              "      <th>1</th>\n",
              "      <td>Female</td>\n",
              "      <td>140</td>\n",
              "      <td>76</td>\n",
              "      <td>OBESE</td>\n",
              "    </tr>\n",
              "    <tr>\n",
              "      <th>2</th>\n",
              "      <td>Male</td>\n",
              "      <td>140</td>\n",
              "      <td>129</td>\n",
              "      <td>NONOBESE</td>\n",
              "    </tr>\n",
              "    <tr>\n",
              "      <th>3</th>\n",
              "      <td>Male</td>\n",
              "      <td>140</td>\n",
              "      <td>152</td>\n",
              "      <td>NONOBESE</td>\n",
              "    </tr>\n",
              "    <tr>\n",
              "      <th>4</th>\n",
              "      <td>Male</td>\n",
              "      <td>140</td>\n",
              "      <td>79</td>\n",
              "      <td>OBESE</td>\n",
              "    </tr>\n",
              "    <tr>\n",
              "      <th>...</th>\n",
              "      <td>...</td>\n",
              "      <td>...</td>\n",
              "      <td>...</td>\n",
              "      <td>...</td>\n",
              "    </tr>\n",
              "    <tr>\n",
              "      <th>495</th>\n",
              "      <td>Male</td>\n",
              "      <td>198</td>\n",
              "      <td>109</td>\n",
              "      <td>OBESE</td>\n",
              "    </tr>\n",
              "    <tr>\n",
              "      <th>496</th>\n",
              "      <td>Male</td>\n",
              "      <td>198</td>\n",
              "      <td>136</td>\n",
              "      <td>OBESE</td>\n",
              "    </tr>\n",
              "    <tr>\n",
              "      <th>497</th>\n",
              "      <td>Female</td>\n",
              "      <td>199</td>\n",
              "      <td>92</td>\n",
              "      <td>OBESE</td>\n",
              "    </tr>\n",
              "    <tr>\n",
              "      <th>498</th>\n",
              "      <td>Male</td>\n",
              "      <td>199</td>\n",
              "      <td>156</td>\n",
              "      <td>NONOBESE</td>\n",
              "    </tr>\n",
              "    <tr>\n",
              "      <th>499</th>\n",
              "      <td>Male</td>\n",
              "      <td>199</td>\n",
              "      <td>99</td>\n",
              "      <td>OBESE</td>\n",
              "    </tr>\n",
              "  </tbody>\n",
              "</table>\n",
              "<p>500 rows × 4 columns</p>\n",
              "</div>"
            ],
            "text/plain": [
              "     Gender  Height  Weight  BodyType\n",
              "0    Female     140     146  NONOBESE\n",
              "1    Female     140      76     OBESE\n",
              "2      Male     140     129  NONOBESE\n",
              "3      Male     140     152  NONOBESE\n",
              "4      Male     140      79     OBESE\n",
              "..      ...     ...     ...       ...\n",
              "495    Male     198     109     OBESE\n",
              "496    Male     198     136     OBESE\n",
              "497  Female     199      92     OBESE\n",
              "498    Male     199     156  NONOBESE\n",
              "499    Male     199      99     OBESE\n",
              "\n",
              "[500 rows x 4 columns]"
            ]
          },
          "metadata": {
            "tags": []
          },
          "execution_count": 19
        }
      ]
    },
    {
      "cell_type": "markdown",
      "metadata": {
        "id": "o-BcBlO9-aFi"
      },
      "source": [
        "As before, lets take a quick look at the data."
      ]
    },
    {
      "cell_type": "code",
      "metadata": {
        "colab": {
          "base_uri": "https://localhost:8080/",
          "height": 596
        },
        "id": "6zqyUrnF-eLK",
        "outputId": "373fd1ca-60e7-4679-a60e-077673932242"
      },
      "source": [
        "#Lets look at how much the various features are correlated using Pearson Correlation\r\n",
        "plt.figure(figsize=(12,10))\r\n",
        "cor = HtWt.corr()\r\n",
        "sns.heatmap(cor, annot=True, cmap=plt.cm.Reds)\r\n",
        "plt.show()"
      ],
      "execution_count": 20,
      "outputs": [
        {
          "output_type": "display_data",
          "data": {
            "image/png": "[encoded data removed]",
            "text/plain": [
              "<Figure size 864x720 with 2 Axes>"
            ]
          },
          "metadata": {
            "tags": [],
            "needs_background": "light"
          }
        }
      ]
    },
    {
      "cell_type": "markdown",
      "metadata": {
        "id": "KDnIjhQz-rJ6"
      },
      "source": [
        "What happened here? Where are gender and Body Type?\r\n",
        "Answer: Correlation wants numerical values, and we gave it text!\r\n",
        "Solution: We need to convert the text categories into numerical values. This could be tedious to do by hand. Fortunately, pandas (and sklearn) both provide tools to convert each unqiue text pattern (category) into a numerical value--you don't even have to list the categories out. If you wanted to, you could. For instance, there is a sense that Non-Obese, Obese, and Morbidly Obese represent a progression, and the 'dumb' categorical conversion we will do here are essentially random.\r\n",
        "Lets convert these to categories."
      ]
    },
    {
      "cell_type": "code",
      "metadata": {
        "colab": {
          "base_uri": "https://localhost:8080/",
          "height": 419
        },
        "id": "7JfpW4elAC5m",
        "outputId": "91613a38-75a2-404f-e9f9-fd2c6bc361f6"
      },
      "source": [
        "for cat in ['Gender', 'BodyType']:\r\n",
        "    HtWt[cat] = HtWt[cat].astype('category').cat.codes\r\n",
        "\r\n",
        "HtWt"
      ],
      "execution_count": 21,
      "outputs": [
        {
          "output_type": "execute_result",
          "data": {
            "text/html": [
              "<div>\n",
              "<style scoped>\n",
              "    .dataframe tbody tr th:only-of-type {\n",
              "        vertical-align: middle;\n",
              "    }\n",
              "\n",
              "    .dataframe tbody tr th {\n",
              "        vertical-align: top;\n",
              "    }\n",
              "\n",
              "    .dataframe thead th {\n",
              "        text-align: right;\n",
              "    }\n",
              "</style>\n",
              "<table border=\"1\" class=\"dataframe\">\n",
              "  <thead>\n",
              "    <tr style=\"text-align: right;\">\n",
              "      <th></th>\n",
              "      <th>Gender</th>\n",
              "      <th>Height</th>\n",
              "      <th>Weight</th>\n",
              "      <th>BodyType</th>\n",
              "    </tr>\n",
              "  </thead>\n",
              "  <tbody>\n",
              "    <tr>\n",
              "      <th>0</th>\n",
              "      <td>0</td>\n",
              "      <td>140</td>\n",
              "      <td>146</td>\n",
              "      <td>1</td>\n",
              "    </tr>\n",
              "    <tr>\n",
              "      <th>1</th>\n",
              "      <td>0</td>\n",
              "      <td>140</td>\n",
              "      <td>76</td>\n",
              "      <td>2</td>\n",
              "    </tr>\n",
              "    <tr>\n",
              "      <th>2</th>\n",
              "      <td>1</td>\n",
              "      <td>140</td>\n",
              "      <td>129</td>\n",
              "      <td>1</td>\n",
              "    </tr>\n",
              "    <tr>\n",
              "      <th>3</th>\n",
              "      <td>1</td>\n",
              "      <td>140</td>\n",
              "      <td>152</td>\n",
              "      <td>1</td>\n",
              "    </tr>\n",
              "    <tr>\n",
              "      <th>4</th>\n",
              "      <td>1</td>\n",
              "      <td>140</td>\n",
              "      <td>79</td>\n",
              "      <td>2</td>\n",
              "    </tr>\n",
              "    <tr>\n",
              "      <th>...</th>\n",
              "      <td>...</td>\n",
              "      <td>...</td>\n",
              "      <td>...</td>\n",
              "      <td>...</td>\n",
              "    </tr>\n",
              "    <tr>\n",
              "      <th>495</th>\n",
              "      <td>1</td>\n",
              "      <td>198</td>\n",
              "      <td>109</td>\n",
              "      <td>2</td>\n",
              "    </tr>\n",
              "    <tr>\n",
              "      <th>496</th>\n",
              "      <td>1</td>\n",
              "      <td>198</td>\n",
              "      <td>136</td>\n",
              "      <td>2</td>\n",
              "    </tr>\n",
              "    <tr>\n",
              "      <th>497</th>\n",
              "      <td>0</td>\n",
              "      <td>199</td>\n",
              "      <td>92</td>\n",
              "      <td>2</td>\n",
              "    </tr>\n",
              "    <tr>\n",
              "      <th>498</th>\n",
              "      <td>1</td>\n",
              "      <td>199</td>\n",
              "      <td>156</td>\n",
              "      <td>1</td>\n",
              "    </tr>\n",
              "    <tr>\n",
              "      <th>499</th>\n",
              "      <td>1</td>\n",
              "      <td>199</td>\n",
              "      <td>99</td>\n",
              "      <td>2</td>\n",
              "    </tr>\n",
              "  </tbody>\n",
              "</table>\n",
              "<p>500 rows × 4 columns</p>\n",
              "</div>"
            ],
            "text/plain": [
              "     Gender  Height  Weight  BodyType\n",
              "0         0     140     146         1\n",
              "1         0     140      76         2\n",
              "2         1     140     129         1\n",
              "3         1     140     152         1\n",
              "4         1     140      79         2\n",
              "..      ...     ...     ...       ...\n",
              "495       1     198     109         2\n",
              "496       1     198     136         2\n",
              "497       0     199      92         2\n",
              "498       1     199     156         1\n",
              "499       1     199      99         2\n",
              "\n",
              "[500 rows x 4 columns]"
            ]
          },
          "metadata": {
            "tags": []
          },
          "execution_count": 21
        }
      ]
    },
    {
      "cell_type": "markdown",
      "metadata": {
        "id": "TEb-jU2lBUMU"
      },
      "source": [
        "Lets try the plot again"
      ]
    },
    {
      "cell_type": "code",
      "metadata": {
        "colab": {
          "base_uri": "https://localhost:8080/",
          "height": 596
        },
        "id": "VEkeWUOgBWLO",
        "outputId": "021aebf9-663a-45cf-d07e-de4f024ca4eb"
      },
      "source": [
        "#Lets look at how much the various features are correlated using Pearson Correlation\r\n",
        "plt.figure(figsize=(12,10))\r\n",
        "cor = HtWt.corr()\r\n",
        "sns.heatmap(cor, annot=True, cmap=plt.cm.Reds)\r\n",
        "plt.show()"
      ],
      "execution_count": 22,
      "outputs": [
        {
          "output_type": "display_data",
          "data": {
            "image/png": "[encoded data removed]",
            "text/plain": [
              "<Figure size 864x720 with 2 Axes>"
            ]
          },
          "metadata": {
            "tags": [],
            "needs_background": "light"
          }
        }
      ]
    },
    {
      "cell_type": "markdown",
      "metadata": {
        "id": "go9y38dBByqH"
      },
      "source": [
        ""
      ]
    },
    {
      "cell_type": "code",
      "metadata": {
        "colab": {
          "base_uri": "https://localhost:8080/"
        },
        "id": "u5itVpM2ByCr",
        "outputId": "bdd3d878-e0cc-4d8a-aee2-970444e71210"
      },
      "source": [
        "# now lets build a cloassifier to try to predict BodyType from Gender, Height and Weight.\r\n",
        "\r\n",
        "array = HtWt.values\r\n",
        "X = array[:,:-1]\r\n",
        "y = array[:,-1]\r\n",
        "\r\n",
        "X"
      ],
      "execution_count": 23,
      "outputs": [
        {
          "output_type": "execute_result",
          "data": {
            "text/plain": [
              "array([[  0, 140, 146],\n",
              "       [  0, 140,  76],\n",
              "       [  1, 140, 129],\n",
              "       ...,\n",
              "       [  0, 199,  92],\n",
              "       [  1, 199, 156],\n",
              "       [  1, 199,  99]])"
            ]
          },
          "metadata": {
            "tags": []
          },
          "execution_count": 23
        }
      ]
    },
    {
      "cell_type": "code",
      "metadata": {
        "colab": {
          "base_uri": "https://localhost:8080/"
        },
        "id": "hWaN1AcNCi4U",
        "outputId": "66916853-435c-4a25-9d53-3b647b28cb62"
      },
      "source": [
        "# we will use the same classifier from above (isn't this great--1 line of additional code for a whole new classifier!)\r\n",
        "\r\n",
        "baseline_performance = train_and_measure_performance(X, y)\r\n",
        "print (f'Baseline accuracy with all features is {baseline_performance}')"
      ],
      "execution_count": 24,
      "outputs": [
        {
          "output_type": "stream",
          "text": [
            "Baseline accuracy with all features is 0.8\n"
          ],
          "name": "stdout"
        }
      ]
    },
    {
      "cell_type": "markdown",
      "metadata": {
        "id": "wZ4oXWviC3mK"
      },
      "source": [
        "Not bad. Remember way back when we define the 'train_and_measure_performance' function and that we use d asimple Ridge classifer, and left 'svm' commented out?  Lets try that. Go back up to that cell, and comment out the Ridge classifier and remove the comment character ('#') for svm. Remeber you must run the cell to update this new model. (should go from 0.8 to 0.95333)\r\n",
        "\r\n",
        "Once you run that, lets see what the impact of the dynamic range is on prediction\r\n"
      ]
    },
    {
      "cell_type": "code",
      "metadata": {
        "colab": {
          "base_uri": "https://localhost:8080/"
        },
        "id": "1Qbde23tC9B7",
        "outputId": "30bf4331-c85f-498a-99f9-e2705a8a9aef"
      },
      "source": [
        "X[:,0] = 100*X[:,0]   # multiply the gender category by 100--will it matter?\r\n",
        "\r\n",
        "gender_performance = train_and_measure_performance(X, y)\r\n",
        "print (f'Accuracy is {gender_performance} vs baseline was {baseline_performance}')\r\n",
        "X\r\n"
      ],
      "execution_count": 25,
      "outputs": [
        {
          "output_type": "stream",
          "text": [
            "Accuracy is 0.8 vs baseline was 0.8\n"
          ],
          "name": "stdout"
        },
        {
          "output_type": "execute_result",
          "data": {
            "text/plain": [
              "array([[  0, 140, 146],\n",
              "       [  0, 140,  76],\n",
              "       [100, 140, 129],\n",
              "       ...,\n",
              "       [  0, 199,  92],\n",
              "       [100, 199, 156],\n",
              "       [100, 199,  99]])"
            ]
          },
          "metadata": {
            "tags": []
          },
          "execution_count": 25
        }
      ]
    },
    {
      "cell_type": "markdown",
      "metadata": {
        "id": "rCAm6OIGDciQ"
      },
      "source": [
        "Now try running the cell again. Wow--performance improved even more. What happened?"
      ]
    },
    {
      "cell_type": "code",
      "metadata": {
        "colab": {
          "base_uri": "https://localhost:8080/"
        },
        "id": "a_DX1bF0Dl4I",
        "outputId": "82f580e6-94fc-4e0d-e4b6-b5776c193229"
      },
      "source": [
        "# lets restore the data and try mulitplying the height\r\n",
        "\r\n",
        "array = HtWt.values\r\n",
        "X = array[:,:-1]\r\n",
        "y = array[:,-1]\r\n",
        "\r\n",
        "X[:,1] = 100*X[:,1]   # multiply the height by 100\r\n",
        "\r\n",
        "ht_performance = train_and_measure_performance(X, y)\r\n",
        "print (f'Accuracy is {ht_performance} vs baseline was {baseline_performance}')"
      ],
      "execution_count": 26,
      "outputs": [
        {
          "output_type": "stream",
          "text": [
            "Accuracy is 0.8 vs baseline was 0.8\n"
          ],
          "name": "stdout"
        }
      ]
    },
    {
      "cell_type": "markdown",
      "metadata": {
        "id": "c744FfyhoROs"
      },
      "source": [
        "Now lets normalize height and weight to 0 mean and unit standard deviation. Of course, gender doesn't really make sense to normalize like this--this is a simple example why it is critial to have people that understand the data doing the machine learning (and why doctors need to be involved in machine learning).\r\n"
      ]
    },
    {
      "cell_type": "code",
      "metadata": {
        "colab": {
          "base_uri": "https://localhost:8080/"
        },
        "id": "h4QT7Y6QomHh",
        "outputId": "cd2b034c-ee6c-40c2-c863-8df7560cac0a"
      },
      "source": [
        "# get the values fresh and correct\r\n",
        "array = HtWt.values\r\n",
        "X = array[:,:-1]\r\n",
        "y = array[:,-1]\r\n",
        "\r\n",
        "from sklearn.preprocessing import normalize\r\n",
        "\r\n",
        "normed = (X - X.mean(axis=0)) / X.std(axis=0)\r\n",
        "\r\n",
        "std_performance = train_and_measure_performance(X, y)\r\n",
        "print (f'Accuracy is {std_performance} vs baseline was {baseline_performance}')"
      ],
      "execution_count": 27,
      "outputs": [
        {
          "output_type": "stream",
          "text": [
            "Accuracy is 0.8 vs baseline was 0.8\n"
          ],
          "name": "stdout"
        }
      ]
    },
    {
      "cell_type": "markdown",
      "metadata": {
        "id": "R0D9Wghat1TF"
      },
      "source": [
        "You shouldn't see a change. That is because support vector machines 'account' for simple feature range variance. But in other cases, it can matter alot. It can also matter if there is marked class imbalance. Why?"
      ]
    },
    {
      "cell_type": "markdown",
      "metadata": {
        "id": "EMSQp97agRrG"
      },
      "source": [
        "#Summary#\r\n",
        "  Congratulations on completing this introduction to feature selection and feature engineering. This is just one (small) part of machine learning. \r\n",
        "  We also have only done a starting step for traditional machine learning. The new rage is 'Deep Learning'. There is not space to go into this here, but in most deep learning applications, there is no explicit feature selection--the computer learns which features are important. But feature engineering is still needed, and in some cases, feature selection will improve performance. \r\n",
        "  If you are interested in trying your hand at deep learning, and applying it to medical imaging, I have written a series of articles, known as 'Magicians Corner' in the Radiology: AI journal. Much like this notebook, all articles have an accompanying colab notebook so readers can actually run the code and experiement with it. Here is links to the  articles ( https://pubs.rsna.org/page/ai/magicians_corner ), which contain the links to the notebooks.\r\n"
      ]
    }
  ]
}