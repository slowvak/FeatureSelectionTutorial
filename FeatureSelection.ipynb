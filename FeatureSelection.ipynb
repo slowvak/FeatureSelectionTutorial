{
  "nbformat": 4,
  "nbformat_minor": 0,
  "metadata": {
    "colab": {
      "name": "FeatureSelection.ipynb",
      "provenance": [],
      "authorship_tag": "ABX9TyMKBSCO43kA683XHEXUDNaT",
      "include_colab_link": true
    },
    "kernelspec": {
      "name": "python3",
      "display_name": "Python 3"
    }
  },
  "cells": [
    {
      "cell_type": "markdown",
      "metadata": {
        "id": "view-in-github",
        "colab_type": "text"
      },
      "source": [
        "<a href=\"https://colab.research.google.com/github/slowvak/FeatureSelectionTutorial/blob/main/FeatureSelection.ipynb\" target=\"_parent\"><img src=\"https://colab.research.google.com/assets/colab-badge.svg\" alt=\"Open In Colab\"/></a>"
      ]
    },
    {
      "cell_type": "markdown",
      "metadata": {
        "id": "tODtqV5MZALR"
      },
      "source": [
        "This is a notebook to explore feature selection methods.\n",
        "It uses the Pima Indians Diabetes Database.\n",
        "The first thing we do is import two libraries that provide important data handling capabilities--first being to read in a CSV (Comma Separated Values) file with our data. The file also has a first row which describes the data in each column. Pandas is 'smart' enough to recognize this. Numpy is a library for numerical computations on arrays. Intersting Side Note: It was written by Mayo Graduate Student Travis Oliphant. https://en.wikipedia.org/wiki/Travis_Oliphant"
      ]
    },
    {
      "cell_type": "code",
      "metadata": {
        "id": "HwdULv8jY78Q"
      },
      "source": [
        "import pandas as pd\n",
        "import numpy as np"
      ],
      "execution_count": 1,
      "outputs": []
    },
    {
      "cell_type": "code",
      "metadata": {
        "colab": {
          "base_uri": "https://localhost:8080/"
        },
        "id": "QU2f05csZPqd",
        "outputId": "4c65b211-cf57-4d76-ee76-e791430e513a"
      },
      "source": [
        "!wget -O diabetes.csv \"https://www.dropbox.com/s/hr9b5rkjblrtu44/pima-indians-diabetes.csv?dl=1\"\n"
      ],
      "execution_count": 2,
      "outputs": [
        {
          "output_type": "stream",
          "text": [
            "--2021-02-03 21:02:17--  https://www.dropbox.com/s/hr9b5rkjblrtu44/pima-indians-diabetes.csv?dl=1\n",
            "Resolving www.dropbox.com (www.dropbox.com)... 162.125.1.18, 2620:100:601a:18::a27d:712\n",
            "Connecting to www.dropbox.com (www.dropbox.com)|162.125.1.18|:443... connected.\n",
            "HTTP request sent, awaiting response... 301 Moved Permanently\n",
            "Location: /s/dl/hr9b5rkjblrtu44/pima-indians-diabetes.csv [following]\n",
            "--2021-02-03 21:02:17--  https://www.dropbox.com/s/dl/hr9b5rkjblrtu44/pima-indians-diabetes.csv\n",
            "Reusing existing connection to www.dropbox.com:443.\n",
            "HTTP request sent, awaiting response... 302 Found\n",
            "Location: https://uc063254f8d6277f6d43916ad61c.dl.dropboxusercontent.com/cd/0/get/BIT1dnpvxC82-sUhCUNt0bKuQKvJlEu2zBe0zyYX3f02fuENRupo01ZsWOnovEbTqDa7BatKSmx7LKcsqpTZ9WQ80vyLNAPAeseEggtEd5rbO4rsHKc6nMVh5BENqrs29Vw/file?dl=1# [following]\n",
            "--2021-02-03 21:02:18--  https://uc063254f8d6277f6d43916ad61c.dl.dropboxusercontent.com/cd/0/get/BIT1dnpvxC82-sUhCUNt0bKuQKvJlEu2zBe0zyYX3f02fuENRupo01ZsWOnovEbTqDa7BatKSmx7LKcsqpTZ9WQ80vyLNAPAeseEggtEd5rbO4rsHKc6nMVh5BENqrs29Vw/file?dl=1\n",
            "Resolving uc063254f8d6277f6d43916ad61c.dl.dropboxusercontent.com (uc063254f8d6277f6d43916ad61c.dl.dropboxusercontent.com)... 162.125.1.15, 2620:100:601a:15::a27d:70f\n",
            "Connecting to uc063254f8d6277f6d43916ad61c.dl.dropboxusercontent.com (uc063254f8d6277f6d43916ad61c.dl.dropboxusercontent.com)|162.125.1.15|:443... connected.\n",
            "HTTP request sent, awaiting response... 200 OK\n",
            "Length: 23870 (23K) [application/binary]\n",
            "Saving to: ‘diabetes.csv’\n",
            "\n",
            "diabetes.csv        100%[===================>]  23.31K  --.-KB/s    in 0.006s  \n",
            "\n",
            "2021-02-03 21:02:18 (3.82 MB/s) - ‘diabetes.csv’ saved [23870/23870]\n",
            "\n"
          ],
          "name": "stdout"
        }
      ]
    },
    {
      "cell_type": "code",
      "metadata": {
        "colab": {
          "base_uri": "https://localhost:8080/",
          "height": 204
        },
        "id": "7SvmUIleZibg",
        "outputId": "cb70be18-effe-49d7-da97-7d347bf6013c"
      },
      "source": [
        "data = pd.read_csv(\"diabetes.csv\")\n",
        "# print out the first few lines to make sure we got the data and that it looks reasonable\n",
        "data.head()\n"
      ],
      "execution_count": 3,
      "outputs": [
        {
          "output_type": "execute_result",
          "data": {
            "text/html": [
              "<div>\n",
              "<style scoped>\n",
              "    .dataframe tbody tr th:only-of-type {\n",
              "        vertical-align: middle;\n",
              "    }\n",
              "\n",
              "    .dataframe tbody tr th {\n",
              "        vertical-align: top;\n",
              "    }\n",
              "\n",
              "    .dataframe thead th {\n",
              "        text-align: right;\n",
              "    }\n",
              "</style>\n",
              "<table border=\"1\" class=\"dataframe\">\n",
              "  <thead>\n",
              "    <tr style=\"text-align: right;\">\n",
              "      <th></th>\n",
              "      <th>Pregnances</th>\n",
              "      <th>Glucose</th>\n",
              "      <th>BloodPressure</th>\n",
              "      <th>SkinThickness</th>\n",
              "      <th>Insulin</th>\n",
              "      <th>BMI</th>\n",
              "      <th>DiabetesPedigreeFunction</th>\n",
              "      <th>Age</th>\n",
              "      <th>Class</th>\n",
              "    </tr>\n",
              "  </thead>\n",
              "  <tbody>\n",
              "    <tr>\n",
              "      <th>0</th>\n",
              "      <td>6</td>\n",
              "      <td>148</td>\n",
              "      <td>72</td>\n",
              "      <td>35</td>\n",
              "      <td>0</td>\n",
              "      <td>33.6</td>\n",
              "      <td>0.627</td>\n",
              "      <td>50</td>\n",
              "      <td>1</td>\n",
              "    </tr>\n",
              "    <tr>\n",
              "      <th>1</th>\n",
              "      <td>1</td>\n",
              "      <td>85</td>\n",
              "      <td>66</td>\n",
              "      <td>29</td>\n",
              "      <td>0</td>\n",
              "      <td>26.6</td>\n",
              "      <td>0.351</td>\n",
              "      <td>31</td>\n",
              "      <td>0</td>\n",
              "    </tr>\n",
              "    <tr>\n",
              "      <th>2</th>\n",
              "      <td>8</td>\n",
              "      <td>183</td>\n",
              "      <td>64</td>\n",
              "      <td>0</td>\n",
              "      <td>0</td>\n",
              "      <td>23.3</td>\n",
              "      <td>0.672</td>\n",
              "      <td>32</td>\n",
              "      <td>1</td>\n",
              "    </tr>\n",
              "    <tr>\n",
              "      <th>3</th>\n",
              "      <td>1</td>\n",
              "      <td>89</td>\n",
              "      <td>66</td>\n",
              "      <td>23</td>\n",
              "      <td>94</td>\n",
              "      <td>28.1</td>\n",
              "      <td>0.167</td>\n",
              "      <td>21</td>\n",
              "      <td>0</td>\n",
              "    </tr>\n",
              "    <tr>\n",
              "      <th>4</th>\n",
              "      <td>0</td>\n",
              "      <td>137</td>\n",
              "      <td>40</td>\n",
              "      <td>35</td>\n",
              "      <td>168</td>\n",
              "      <td>43.1</td>\n",
              "      <td>2.288</td>\n",
              "      <td>33</td>\n",
              "      <td>1</td>\n",
              "    </tr>\n",
              "  </tbody>\n",
              "</table>\n",
              "</div>"
            ],
            "text/plain": [
              "   Pregnances  Glucose  BloodPressure  ...  DiabetesPedigreeFunction  Age  Class\n",
              "0           6      148             72  ...                     0.627   50      1\n",
              "1           1       85             66  ...                     0.351   31      0\n",
              "2           8      183             64  ...                     0.672   32      1\n",
              "3           1       89             66  ...                     0.167   21      0\n",
              "4           0      137             40  ...                     2.288   33      1\n",
              "\n",
              "[5 rows x 9 columns]"
            ]
          },
          "metadata": {
            "tags": []
          },
          "execution_count": 3
        }
      ]
    },
    {
      "cell_type": "code",
      "metadata": {
        "id": "E65snQJYaEce"
      },
      "source": [
        ""
      ],
      "execution_count": 3,
      "outputs": []
    },
    {
      "cell_type": "markdown",
      "metadata": {
        "id": "ecDU_SWerUzn"
      },
      "source": [
        "Convert the dataframe into a set of feature vectors (X) and the class (1-diabetic 0-not diabetic).\n"
      ]
    },
    {
      "cell_type": "code",
      "metadata": {
        "colab": {
          "base_uri": "https://localhost:8080/"
        },
        "id": "zFAcUoporTc5",
        "outputId": "8261dbb4-210c-4a86-e7fe-f2782a5a2c8f"
      },
      "source": [
        "array = data.values\n",
        "X = array[:,0:8]\n",
        "y = array[:,8]\n",
        "\n",
        "#print out the shape of the X feature array--number of features and number of rows/examples\n",
        "X.shape"
      ],
      "execution_count": 31,
      "outputs": [
        {
          "output_type": "execute_result",
          "data": {
            "text/plain": [
              "(768, 8)"
            ]
          },
          "metadata": {
            "tags": []
          },
          "execution_count": 31
        }
      ]
    },
    {
      "cell_type": "markdown",
      "metadata": {
        "id": "WxTZpUi_1mZr"
      },
      "source": [
        "Before we can really evaluate feature selection methods, we need a classifier to show the impact of feature selection. We will use a support vector machine (SVM). We also need to split data into a set used to train the SVM, and a hold-out set to see how well it worked (the 'test' set). \n"
      ]
    },
    {
      "cell_type": "code",
      "metadata": {
        "id": "3jw7JFkq1xV3"
      },
      "source": [
        "# Import train_test_split function\n",
        "from sklearn.model_selection import train_test_split\n",
        "from sklearn import metrics\n",
        "from sklearn import svm\n",
        "\n"
      ],
      "execution_count": 37,
      "outputs": []
    },
    {
      "cell_type": "code",
      "metadata": {
        "colab": {
          "base_uri": "https://localhost:8080/"
        },
        "id": "pOXYnmET2Tzn",
        "outputId": "17935f14-4fdc-4ba1-a114-0fae95fbfc05"
      },
      "source": [
        "#Import svm model\n",
        "# define a function that will train a classifier and then measure performance\n",
        "\n",
        "def train_and_measure_performance(X, y):\n",
        "    X_train, X_test, y_train, y_test = train_test_split(X, y, test_size=0.3, random_state=109) # 70% training and 30% test\n",
        "    #Create a svm Classifier\n",
        "    clf = svm.SVC(kernel='linear') # Linear Kernel\n",
        "\n",
        "    #Train the model using the training sets\n",
        "    clf.fit(X_train, y_train)\n",
        "\n",
        "    #Predict the response for test dataset\n",
        "    y_pred = clf.predict(X_test)\n",
        "    # Model Accuracy: how often is the classifier correct?\n",
        "    return (metrics.accuracy_score(y_test, y_pred))\n",
        "\n",
        "baseline_performance = train_and_measure_performance(X, y)\n",
        "print (f'Baseline accruacy with all features is {baseline_performance}')"
      ],
      "execution_count": 44,
      "outputs": [
        {
          "output_type": "stream",
          "text": [
            "Baseline accruacy with all features is 0.7402597402597403\n"
          ],
          "name": "stdout"
        }
      ]
    },
    {
      "cell_type": "markdown",
      "metadata": {
        "id": "DU9xp04Nrmhr"
      },
      "source": [
        "There are several 'scikit' libraries for scientific python. One of these is scikit-learn for machine learning. (Another that I use is scikit-image for image processing). \n",
        "The link to the library is: https://scikit-learn.org/stable/\n",
        "\n",
        "We will start with filter method--Chi Square"
      ]
    },
    {
      "cell_type": "code",
      "metadata": {
        "colab": {
          "base_uri": "https://localhost:8080/"
        },
        "id": "WbpWIQDXtNh6",
        "outputId": "4670e45d-f0d1-48b0-dda5-43080d721054"
      },
      "source": [
        "\n",
        "from sklearn.feature_selection import SelectKBest\n",
        "from sklearn.feature_selection import chi2\n",
        "\n",
        "X_train, X_test, y_train, y_test = train_test_split(X, y, test_size=0.3, random_state=109) # 70% training and 30% test\n",
        "\n",
        "# Feature extraction--select the 4 best features\n",
        "test = SelectKBest(score_func=chi2, k=4)\n",
        "fit = test.fit(X_train, y_train)\n",
        "\n",
        "# Summarize scores\n",
        "np.set_printoptions(precision=3)\n",
        "\n",
        "print (\"Preg       Glucose\tBP   SkinThk  Insulin\tBMI\t  DiabPed     Age\")\n",
        "print(fit.scores_)\n",
        "\n"
      ],
      "execution_count": 70,
      "outputs": [
        {
          "output_type": "stream",
          "text": [
            "Preg       Glucose\tBP   SkinThk  Insulin\tBMI\t  DiabPed     Age\n",
            "[  87.431  895.48     7.7     10.287 1138.183   77.173    4.169  154.181]\n"
          ],
          "name": "stdout"
        }
      ]
    },
    {
      "cell_type": "markdown",
      "metadata": {
        "id": "q3NQxQs0xIdw"
      },
      "source": [
        "So this means that ranked feature importance is: Insulin, Glucose, Age, BMI, Pregnancies, Skin thickness, BP, Pedigree"
      ]
    },
    {
      "cell_type": "code",
      "metadata": {
        "colab": {
          "base_uri": "https://localhost:8080/"
        },
        "id": "z4URvvA-3Prk",
        "outputId": "a362409c-b37f-462f-ed92-46ccfd513e80"
      },
      "source": [
        "# now measure the performance\n",
        "# delete the columns we don't want\n",
        "\n",
        "chi_df = data.drop(columns=[\"BloodPressure\",\"SkinThickness\",\"DiabetesPedigreeFunction\",\"Age\", \"Class\"])\n",
        "d_chi = chi_df.values \n",
        "X_1 = d_chi[:,:]\n",
        "\n",
        "perf = train_and_measure_performance(X_1, y)\n",
        "print (f'Accuracy with best features using Chi-square is {perf}')\n",
        "\n",
        "# TO Do: you try adding or removing features and see the impact on performance\n"
      ],
      "execution_count": 71,
      "outputs": [
        {
          "output_type": "stream",
          "text": [
            "Accuracy with best features using Chi-square is 0.7619047619047619\n"
          ],
          "name": "stdout"
        }
      ]
    },
    {
      "cell_type": "markdown",
      "metadata": {
        "id": "MlZzSQINv7CF"
      },
      "source": [
        "Next we will apply a wrapper method--Recursive Feature Elimination or RFE"
      ]
    },
    {
      "cell_type": "code",
      "metadata": {
        "colab": {
          "base_uri": "https://localhost:8080/"
        },
        "id": "xHT9SXeWv6F4",
        "outputId": "b53e2746-edd8-4a13-ae41-af27d0d6e708"
      },
      "source": [
        "# Import your necessary dependencies\n",
        "from sklearn.feature_selection import RFE\n",
        "from sklearn.svm import SVR\n",
        "from sklearn.linear_model import LogisticRegression\n",
        "\n",
        "estimator = SVR(kernel=\"linear\")\n",
        "selector = RFE(estimator, n_features_to_select=4, step=1)\n",
        "selector = selector.fit(X_train, y_train)\n",
        "selector.support_\n",
        "rank=selector.ranking_\n",
        "print(rank)\n"
      ],
      "execution_count": 72,
      "outputs": [
        {
          "output_type": "stream",
          "text": [
            "[1 1 2 3 4 1 1 1]\n"
          ],
          "name": "stdout"
        }
      ]
    },
    {
      "cell_type": "code",
      "metadata": {
        "colab": {
          "base_uri": "https://localhost:8080/"
        },
        "id": "mhkqH8LtPTg_",
        "outputId": "dacdb20d-96ac-432a-ce0c-8946fe7c088a"
      },
      "source": [
        "\n",
        "# drop all columns not '1'\n",
        "X_1 = data.drop(data.columns[8], axis=1)  # get rid of 'class'\n",
        "for i in range(7):\n",
        "    if rank[i] != 1:\n",
        "        X_1 = X_1.drop(X_1.columns[i], axis=1)\n",
        "\n",
        "perf = train_and_measure_performance(X_1, y)\n",
        "print (f'Accuracy with best features using RFE is {perf}')"
      ],
      "execution_count": 73,
      "outputs": [
        {
          "output_type": "stream",
          "text": [
            "Accuracy with best features using RFE is 0.7445887445887446\n"
          ],
          "name": "stdout"
        }
      ]
    },
    {
      "cell_type": "code",
      "metadata": {
        "colab": {
          "base_uri": "https://localhost:8080/"
        },
        "id": "Su0DKjpNSgJs",
        "outputId": "fc57989e-5f4b-41b5-db26-c62baefbcf93"
      },
      "source": [
        "nof=8\n",
        "nof_list=np.arange(1,nof)            \n",
        "high_score=0\n",
        "from sklearn.linear_model import LinearRegression\n",
        "\n",
        "score_list =[]\n",
        "for n in range(nof-1):\n",
        "    model = LinearRegression()\n",
        "    rfe = RFE(model,nof_list[n])\n",
        "    X_train_rfe = rfe.fit_transform(X_train,y_train)\n",
        "    X_test_rfe = rfe.transform(X_test)\n",
        "    model.fit(X_train_rfe,y_train)\n",
        "    score = model.score(X_test_rfe,y_test)\n",
        "    score_list.append(score)\n",
        "    if(score>high_score):\n",
        "        high_score = score\n",
        "        nof = nof_list[n]\n",
        "\n",
        "print(\"Optimum number of features: %d\" %nof)\n",
        "print(\"Score with %d features: %f\" % (nof, high_score))"
      ],
      "execution_count": 75,
      "outputs": [
        {
          "output_type": "stream",
          "text": [
            "Optimum number of features: 4\n",
            "Score with 4 features: 0.298316\n"
          ],
          "name": "stdout"
        }
      ]
    }
  ]
}