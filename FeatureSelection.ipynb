{
  "nbformat": 4,
  "nbformat_minor": 0,
  "metadata": {
    "colab": {
      "name": "FeatureSelection.ipynb",
      "provenance": [],
      "collapsed_sections": [],
      "authorship_tag": "ABX9TyN2uijJ+iP+ga8fM8MD41tX",
      "include_colab_link": true
    },
    "kernelspec": {
      "name": "python3",
      "display_name": "Python 3"
    }
  },
  "cells": [
    {
      "cell_type": "markdown",
      "metadata": {
        "id": "view-in-github",
        "colab_type": "text"
      },
      "source": [
        "<a href=\"https://colab.research.google.com/github/slowvak/FeatureSelectionTutorial/blob/main/FeatureSelection.ipynb\" target=\"_parent\"><img src=\"https://colab.research.google.com/assets/colab-badge.svg\" alt=\"Open In Colab\"/></a>"
      ]
    },
    {
      "cell_type": "markdown",
      "metadata": {
        "id": "JyG45Qk3qQLS"
      },
      "source": [
        "# A bit about Colab (Jupyter) Notebooks and Cells\n",
        "A notebook is a list of cells. Cells contain either explanatory text or executable code and its output. Click a cell to select it."
      ]
    },
    {
      "cell_type": "markdown",
      "metadata": {
        "id": "lJ6VEz3Cgp14"
      },
      "source": [
        ""
      ]
    },
    {
      "cell_type": "markdown",
      "metadata": {
        "id": "KR921S_OQSHG"
      },
      "source": [
        "## Code cells\n",
        "Below is a **code cell**. Once the toolbar button indicates CONNECTED, click in the cell to select it and execute the contents in the following ways:\n",
        "\n",
        "* Click the **Play icon** in the left gutter of the cell;\n",
        "* Type **Cmd/Ctrl+Enter** to run the cell in place;\n",
        "* Type **Shift+Enter** to run the cell and move focus to the next cell (adding one if none exists); or\n",
        "* Type **Alt+Enter** to run the cell and insert a new code cell immediately below it.\n",
        "\n",
        "There are additional options for running some or all cells in the **Runtime** menu.\n"
      ]
    },
    {
      "cell_type": "code",
      "metadata": {
        "cellView": "both",
        "colab": {
          "height": 35
        },
        "id": "WUtu4316QSHL",
        "outputId": "67bdf0c3-d76f-4226-fc34-a2f2d0eba60b"
      },
      "source": [
        "a = 10\n",
        "a"
      ],
      "execution_count": null,
      "outputs": [
        {
          "output_type": "execute_result",
          "data": {
            "text/plain": [
              "10"
            ]
          },
          "metadata": {
            "tags": []
          },
          "execution_count": 0
        }
      ]
    },
    {
      "cell_type": "markdown",
      "metadata": {
        "id": "Id6tDF1HQSHD"
      },
      "source": [
        "## Text cells\n",
        "This is a **text cell**. You can **double-click** to edit this cell. Text cells\n",
        "use markdown syntax. To learn more, see  [markdown\n",
        "guide](/notebooks/markdown_guide.ipynb).\n",
        "\n"
      ]
    },
    {
      "cell_type": "markdown",
      "metadata": {
        "id": "7bqjkGKwQSHW"
      },
      "source": [
        "## Adding and moving cells\n",
        "You can add new cells by using the **+ CODE** and **+ TEXT** buttons that show when you hover between cells. These buttons are also in the toolbar above the notebook where they can be used to add a cell below the currently selected cell.\n",
        "\n",
        "You can move a cell by selecting it and clicking **Cell Up** or **Cell Down** in the top toolbar. \n",
        "\n",
        "Consecutive cells can be selected by \"lasso selection\" by dragging from outside one cell and through the group.  Non-adjacent cells can be selected concurrently by clicking one and then holding down Ctrl while clicking another.  Similarly, using Shift instead of Ctrl will select all intermediate cells."
      ]
    },
    {
      "cell_type": "markdown",
      "metadata": {
        "id": "GOwlZRXEQSHZ"
      },
      "source": [
        "# Working with python\n",
        "Colaboratory is built on top of [Jupyter Notebook](https://jupyter.org/). Below are some examples of convenience functions provided."
      ]
    },
    {
      "cell_type": "markdown",
      "metadata": {
        "id": "RVuqWUXPQSHa"
      },
      "source": [
        "Long running python processes can be interrupted. Run the following cell and select **Runtime -> Interrupt execution** (*hotkey: Cmd/Ctrl-M I*) to stop execution."
      ]
    },
    {
      "cell_type": "code",
      "metadata": {
        "cellView": "both",
        "colab": {
          "height": 244
        },
        "id": "d-S-3nYLQSHb",
        "outputId": "38d534fc-8b61-4f9f-d731-74b23aadb5bc"
      },
      "source": [
        "import time\n",
        "print(\"Sleeping\")\n",
        "time.sleep(30) # sleep for a while; interrupt me!\n",
        "print(\"Done Sleeping\")"
      ],
      "execution_count": null,
      "outputs": [
        {
          "output_type": "stream",
          "text": [
            "Sleeping\n"
          ],
          "name": "stdout"
        },
        {
          "output_type": "error",
          "ename": "KeyboardInterrupt",
          "evalue": "ignored",
          "traceback": [
            "\u001b[1;31m---------------------------------------------------------------------------\u001b[0m\n\u001b[1;31mKeyboardInterrupt\u001b[0m                         Traceback (most recent call last)",
            "\u001b[1;32m<ipython-input-3-626f81edbca4>\u001b[0m in \u001b[0;36m<module>\u001b[1;34m()\u001b[0m\n\u001b[0;32m      1\u001b[0m \u001b[1;32mimport\u001b[0m \u001b[0mtime\u001b[0m\u001b[1;33m\u001b[0m\u001b[0m\n\u001b[0;32m      2\u001b[0m \u001b[1;32mprint\u001b[0m \u001b[1;34m\"Sleeping\"\u001b[0m\u001b[1;33m\u001b[0m\u001b[0m\n\u001b[1;32m----> 3\u001b[1;33m \u001b[0mtime\u001b[0m\u001b[1;33m.\u001b[0m\u001b[0msleep\u001b[0m\u001b[1;33m(\u001b[0m\u001b[1;36m30\u001b[0m\u001b[1;33m)\u001b[0m \u001b[1;31m# sleep for a while; interrupt me!\u001b[0m\u001b[1;33m\u001b[0m\u001b[0m\n\u001b[0m\u001b[0;32m      4\u001b[0m \u001b[1;32mprint\u001b[0m \u001b[1;34m\"Done Sleeping\"\u001b[0m\u001b[1;33m\u001b[0m\u001b[0m\n",
            "\u001b[1;31mKeyboardInterrupt\u001b[0m: "
          ]
        }
      ]
    },
    {
      "cell_type": "markdown",
      "metadata": {
        "id": "7cRnhv_7N4Pa"
      },
      "source": [
        "## Rich, interactive outputs\n",
        "Until now all of the generated outputs have been text, but they can be more interesting, like the chart below. "
      ]
    },
    {
      "cell_type": "code",
      "metadata": {
        "colab": {
          "height": 371
        },
        "id": "JVXnTqyE9RET",
        "outputId": "a20709c6-9773-49e9-bc49-1e8468ea990b"
      },
      "source": [
        "import numpy as np\n",
        "from matplotlib import pyplot as plt\n",
        "\n",
        "ys = 200 + np.random.randn(100)\n",
        "x = [x for x in range(len(ys))]\n",
        "\n",
        "plt.plot(x, ys, '-')\n",
        "plt.fill_between(x, ys, 195, where=(ys > 195), facecolor='g', alpha=0.6)\n",
        "\n",
        "plt.title(\"Fills and Alpha Example\")\n",
        "plt.show()"
      ],
      "execution_count": null,
      "outputs": [
        {
          "output_type": "display_data",
          "data": {
            "image/png": "[encoded data removed]",
            "text/plain": [
              "<matplotlib.figure.Figure at 0x5636f516d150>"
            ]
          },
          "metadata": {
            "tags": []
          }
        }
      ]
    },
    {
      "cell_type": "markdown",
      "metadata": {
        "id": "tODtqV5MZALR"
      },
      "source": [
        "##Feature Selection\n",
        "This is a notebook to explore feature selection methods.\n",
        "It uses the Pima Indians Diabetes Database.\n",
        "The first thing we do is import two libraries that provide important data handling capabilities--first being to read in a CSV (Comma Separated Values) file with our data. The file also has a first row which describes the data in each column. Pandas is 'smart' enough to recognize this. Numpy is a library for numerical computations on arrays. Intersting Side Note: It was written by Mayo Graduate Student Travis Oliphant. https://en.wikipedia.org/wiki/Travis_Oliphant"
      ]
    },
    {
      "cell_type": "markdown",
      "metadata": {
        "id": "RV3_WQwhgTjc"
      },
      "source": [
        ""
      ]
    },
    {
      "cell_type": "code",
      "metadata": {
        "id": "HwdULv8jY78Q"
      },
      "source": [
        "import pandas as pd\n",
        "import numpy as np"
      ],
      "execution_count": 1,
      "outputs": []
    },
    {
      "cell_type": "code",
      "metadata": {
        "colab": {
          "base_uri": "https://localhost:8080/"
        },
        "id": "QU2f05csZPqd",
        "outputId": "9e0f0f86-a393-4aeb-beb3-570b6eee2430"
      },
      "source": [
        "!wget -O diabetes.csv \"https://www.dropbox.com/s/hr9b5rkjblrtu44/pima-indians-diabetes.csv?dl=1\"\n"
      ],
      "execution_count": 2,
      "outputs": [
        {
          "output_type": "stream",
          "text": [
            "--2021-02-04 00:40:22--  https://www.dropbox.com/s/hr9b5rkjblrtu44/pima-indians-diabetes.csv?dl=1\n",
            "Resolving www.dropbox.com (www.dropbox.com)... 162.125.1.18, 2620:100:6017:18::a27d:212\n",
            "Connecting to www.dropbox.com (www.dropbox.com)|162.125.1.18|:443... connected.\n",
            "HTTP request sent, awaiting response... 301 Moved Permanently\n",
            "Location: /s/dl/hr9b5rkjblrtu44/pima-indians-diabetes.csv [following]\n",
            "--2021-02-04 00:40:22--  https://www.dropbox.com/s/dl/hr9b5rkjblrtu44/pima-indians-diabetes.csv\n",
            "Reusing existing connection to www.dropbox.com:443.\n",
            "HTTP request sent, awaiting response... 302 Found\n",
            "Location: https://uca230e61544fab9dde9bd2e9476.dl.dropboxusercontent.com/cd/0/get/BISI1X8XT-IU9ZmMRRd6nkC3S6YByVPP3ZyhQtT6oCA_SWhZhVFbqtNwfYwsyR3uK-pwJf-LPz6XNCUcQxbhznl6VGpq8v5eeXErcxziCFN1UAoQg0IHvMLqP10_jU4OHM8/file?dl=1# [following]\n",
            "--2021-02-04 00:40:22--  https://uca230e61544fab9dde9bd2e9476.dl.dropboxusercontent.com/cd/0/get/BISI1X8XT-IU9ZmMRRd6nkC3S6YByVPP3ZyhQtT6oCA_SWhZhVFbqtNwfYwsyR3uK-pwJf-LPz6XNCUcQxbhznl6VGpq8v5eeXErcxziCFN1UAoQg0IHvMLqP10_jU4OHM8/file?dl=1\n",
            "Resolving uca230e61544fab9dde9bd2e9476.dl.dropboxusercontent.com (uca230e61544fab9dde9bd2e9476.dl.dropboxusercontent.com)... 162.125.1.15, 2620:100:601a:15::a27d:70f\n",
            "Connecting to uca230e61544fab9dde9bd2e9476.dl.dropboxusercontent.com (uca230e61544fab9dde9bd2e9476.dl.dropboxusercontent.com)|162.125.1.15|:443... connected.\n",
            "HTTP request sent, awaiting response... 200 OK\n",
            "Length: 23870 (23K) [application/binary]\n",
            "Saving to: ‘diabetes.csv’\n",
            "\n",
            "diabetes.csv        100%[===================>]  23.31K  --.-KB/s    in 0.02s   \n",
            "\n",
            "2021-02-04 00:40:22 (1.21 MB/s) - ‘diabetes.csv’ saved [23870/23870]\n",
            "\n"
          ],
          "name": "stdout"
        }
      ]
    },
    {
      "cell_type": "code",
      "metadata": {
        "colab": {
          "base_uri": "https://localhost:8080/",
          "height": 204
        },
        "id": "7SvmUIleZibg",
        "outputId": "20276912-8db6-446e-dc4b-22e035d7f325"
      },
      "source": [
        "data = pd.read_csv(\"diabetes.csv\")\n",
        "# print out the first few lines to make sure we got the data and that it looks reasonable\n",
        "data.head()\n"
      ],
      "execution_count": 3,
      "outputs": [
        {
          "output_type": "execute_result",
          "data": {
            "text/html": [
              "<div>\n",
              "<style scoped>\n",
              "    .dataframe tbody tr th:only-of-type {\n",
              "        vertical-align: middle;\n",
              "    }\n",
              "\n",
              "    .dataframe tbody tr th {\n",
              "        vertical-align: top;\n",
              "    }\n",
              "\n",
              "    .dataframe thead th {\n",
              "        text-align: right;\n",
              "    }\n",
              "</style>\n",
              "<table border=\"1\" class=\"dataframe\">\n",
              "  <thead>\n",
              "    <tr style=\"text-align: right;\">\n",
              "      <th></th>\n",
              "      <th>Pregnances</th>\n",
              "      <th>Glucose</th>\n",
              "      <th>BloodPressure</th>\n",
              "      <th>SkinThickness</th>\n",
              "      <th>Insulin</th>\n",
              "      <th>BMI</th>\n",
              "      <th>DiabetesPedigreeFunction</th>\n",
              "      <th>Age</th>\n",
              "      <th>Class</th>\n",
              "    </tr>\n",
              "  </thead>\n",
              "  <tbody>\n",
              "    <tr>\n",
              "      <th>0</th>\n",
              "      <td>6</td>\n",
              "      <td>148</td>\n",
              "      <td>72</td>\n",
              "      <td>35</td>\n",
              "      <td>0</td>\n",
              "      <td>33.6</td>\n",
              "      <td>0.627</td>\n",
              "      <td>50</td>\n",
              "      <td>1</td>\n",
              "    </tr>\n",
              "    <tr>\n",
              "      <th>1</th>\n",
              "      <td>1</td>\n",
              "      <td>85</td>\n",
              "      <td>66</td>\n",
              "      <td>29</td>\n",
              "      <td>0</td>\n",
              "      <td>26.6</td>\n",
              "      <td>0.351</td>\n",
              "      <td>31</td>\n",
              "      <td>0</td>\n",
              "    </tr>\n",
              "    <tr>\n",
              "      <th>2</th>\n",
              "      <td>8</td>\n",
              "      <td>183</td>\n",
              "      <td>64</td>\n",
              "      <td>0</td>\n",
              "      <td>0</td>\n",
              "      <td>23.3</td>\n",
              "      <td>0.672</td>\n",
              "      <td>32</td>\n",
              "      <td>1</td>\n",
              "    </tr>\n",
              "    <tr>\n",
              "      <th>3</th>\n",
              "      <td>1</td>\n",
              "      <td>89</td>\n",
              "      <td>66</td>\n",
              "      <td>23</td>\n",
              "      <td>94</td>\n",
              "      <td>28.1</td>\n",
              "      <td>0.167</td>\n",
              "      <td>21</td>\n",
              "      <td>0</td>\n",
              "    </tr>\n",
              "    <tr>\n",
              "      <th>4</th>\n",
              "      <td>0</td>\n",
              "      <td>137</td>\n",
              "      <td>40</td>\n",
              "      <td>35</td>\n",
              "      <td>168</td>\n",
              "      <td>43.1</td>\n",
              "      <td>2.288</td>\n",
              "      <td>33</td>\n",
              "      <td>1</td>\n",
              "    </tr>\n",
              "  </tbody>\n",
              "</table>\n",
              "</div>"
            ],
            "text/plain": [
              "   Pregnances  Glucose  BloodPressure  ...  DiabetesPedigreeFunction  Age  Class\n",
              "0           6      148             72  ...                     0.627   50      1\n",
              "1           1       85             66  ...                     0.351   31      0\n",
              "2           8      183             64  ...                     0.672   32      1\n",
              "3           1       89             66  ...                     0.167   21      0\n",
              "4           0      137             40  ...                     2.288   33      1\n",
              "\n",
              "[5 rows x 9 columns]"
            ]
          },
          "metadata": {
            "tags": []
          },
          "execution_count": 3
        }
      ]
    },
    {
      "cell_type": "code",
      "metadata": {
        "colab": {
          "base_uri": "https://localhost:8080/",
          "height": 716
        },
        "id": "E65snQJYaEce",
        "outputId": "6400915f-407c-4d18-f81d-2f6ec96c69d1"
      },
      "source": [
        "import matplotlib\n",
        "import matplotlib.pyplot as plt\n",
        "import seaborn as sns\n",
        "\n",
        "#Lets look at how much the various features are correlated using Pearson Correlation\n",
        "plt.figure(figsize=(12,10))\n",
        "cor = data.corr()\n",
        "sns.heatmap(cor, annot=True, cmap=plt.cm.Reds)\n",
        "plt.show()"
      ],
      "execution_count": 4,
      "outputs": [
        {
          "output_type": "display_data",
          "data": {
            "image/png": "[encoded data removed]",
            "text/plain": [
              "<Figure size 864x720 with 2 Axes>"
            ]
          },
          "metadata": {
            "tags": [],
            "needs_background": "light"
          }
        }
      ]
    },
    {
      "cell_type": "markdown",
      "metadata": {
        "id": "ecDU_SWerUzn"
      },
      "source": [
        "Convert the dataframe into a set of feature vectors (X) and the class (1-diabetic 0-not diabetic).\n"
      ]
    },
    {
      "cell_type": "code",
      "metadata": {
        "colab": {
          "base_uri": "https://localhost:8080/"
        },
        "id": "zFAcUoporTc5",
        "outputId": "fb2930b4-17dd-4d14-baba-aa3e67133204"
      },
      "source": [
        "array = data.values\n",
        "X = array[:,0:8]\n",
        "y = array[:,8]\n",
        "\n",
        "#print out the shape of the X feature array--number of features and number of rows/examples\n",
        "X.shape"
      ],
      "execution_count": 5,
      "outputs": [
        {
          "output_type": "execute_result",
          "data": {
            "text/plain": [
              "(768, 8)"
            ]
          },
          "metadata": {
            "tags": []
          },
          "execution_count": 5
        }
      ]
    },
    {
      "cell_type": "markdown",
      "metadata": {
        "id": "WxTZpUi_1mZr"
      },
      "source": [
        "Before we can really evaluate feature selection methods, we need a classifier to show the impact of feature selection. We will use a support vector machine (SVM). We also need to split data into a set used to train the SVM, and a hold-out set to see how well it worked (the 'test' set). \n"
      ]
    },
    {
      "cell_type": "code",
      "metadata": {
        "id": "3jw7JFkq1xV3"
      },
      "source": [
        "# Import train_test_split function\n",
        "from sklearn.model_selection import train_test_split\n",
        "from sklearn import metrics\n",
        "from sklearn import svm\n",
        "\n"
      ],
      "execution_count": 6,
      "outputs": []
    },
    {
      "cell_type": "code",
      "metadata": {
        "colab": {
          "base_uri": "https://localhost:8080/"
        },
        "id": "pOXYnmET2Tzn",
        "outputId": "ddcfc4dd-78e6-4881-dd50-b0dd5c3e9182"
      },
      "source": [
        "#Import svm model\n",
        "# define a function that will train a classifier and then measure performance\n",
        "\n",
        "def train_and_measure_performance(X, y):\n",
        "    X_train, X_test, y_train, y_test = train_test_split(X, y, test_size=0.3, random_state=109) # 70% training and 30% test\n",
        "    #Create a svm Classifier\n",
        "    clf = svm.SVC(kernel='linear') # Linear Kernel\n",
        "\n",
        "    #Train the model using the training sets\n",
        "    clf.fit(X_train, y_train)\n",
        "\n",
        "    #Predict the response for test dataset\n",
        "    y_pred = clf.predict(X_test)\n",
        "    # Model Accuracy: how often is the classifier correct?\n",
        "    return (metrics.accuracy_score(y_test, y_pred))\n",
        "\n",
        "baseline_performance = train_and_measure_performance(X, y)\n",
        "print (f'Baseline accruacy with all features is {baseline_performance}')"
      ],
      "execution_count": 7,
      "outputs": [
        {
          "output_type": "stream",
          "text": [
            "Baseline accruacy with all features is 0.7402597402597403\n"
          ],
          "name": "stdout"
        }
      ]
    },
    {
      "cell_type": "markdown",
      "metadata": {
        "id": "DU9xp04Nrmhr"
      },
      "source": [
        "There are several 'scikit' libraries for scientific python. One of these is scikit-learn for machine learning. (Another that I use is scikit-image for image processing). \n",
        "The link to the library is: https://scikit-learn.org/stable/\n",
        "\n",
        "We will start with filter method--Chi Square"
      ]
    },
    {
      "cell_type": "code",
      "metadata": {
        "colab": {
          "base_uri": "https://localhost:8080/"
        },
        "id": "WbpWIQDXtNh6",
        "outputId": "a036968b-8f0a-4117-d884-ad84062b7aed"
      },
      "source": [
        "\n",
        "from sklearn.feature_selection import SelectKBest\n",
        "from sklearn.feature_selection import chi2\n",
        "\n",
        "X_train, X_test, y_train, y_test = train_test_split(X, y, test_size=0.3, random_state=109) # 70% training and 30% test\n",
        "\n",
        "# Feature extraction--select the 4 best features\n",
        "test = SelectKBest(score_func=chi2, k=4)\n",
        "fit = test.fit(X_train, y_train)\n",
        "\n",
        "# Summarize scores\n",
        "np.set_printoptions(precision=3)\n",
        "\n",
        "print (\"Preg       Glucose\tBP   SkinThk  Insulin\tBMI\t  DiabPed     Age\")\n",
        "print(fit.scores_)\n",
        "\n"
      ],
      "execution_count": 8,
      "outputs": [
        {
          "output_type": "stream",
          "text": [
            "Preg       Glucose\tBP   SkinThk  Insulin\tBMI\t  DiabPed     Age\n",
            "[  87.431  895.48     7.7     10.287 1138.183   77.173    4.169  154.181]\n"
          ],
          "name": "stdout"
        }
      ]
    },
    {
      "cell_type": "markdown",
      "metadata": {
        "id": "q3NQxQs0xIdw"
      },
      "source": [
        "So this means that ranked feature importance is: Insulin, Glucose, Age, BMI, Pregnancies, Skin thickness, BP, Pedigree"
      ]
    },
    {
      "cell_type": "code",
      "metadata": {
        "colab": {
          "base_uri": "https://localhost:8080/"
        },
        "id": "z4URvvA-3Prk",
        "outputId": "dccb43fc-c872-465a-934d-5daea2f8db76"
      },
      "source": [
        "# now measure the performance\n",
        "# delete the columns we don't want\n",
        "\n",
        "chi_df = data.drop(columns=[\"BloodPressure\",\"SkinThickness\",\"DiabetesPedigreeFunction\",\"Age\", \"Class\"])\n",
        "d_chi = chi_df.values \n",
        "X_1 = d_chi[:,:]\n",
        "\n",
        "perf = train_and_measure_performance(X_1, y)\n",
        "print (f'Accuracy with best features using Chi-square is {perf}')\n",
        "\n",
        "# TO Do: you try adding or removing features and see the impact on performance\n"
      ],
      "execution_count": 9,
      "outputs": [
        {
          "output_type": "stream",
          "text": [
            "Accuracy with best features using Chi-square is 0.7619047619047619\n"
          ],
          "name": "stdout"
        }
      ]
    },
    {
      "cell_type": "markdown",
      "metadata": {
        "id": "MlZzSQINv7CF"
      },
      "source": [
        "Next we will apply a wrapper method--Recursive Feature Elimination or RFE"
      ]
    },
    {
      "cell_type": "code",
      "metadata": {
        "colab": {
          "base_uri": "https://localhost:8080/"
        },
        "id": "xHT9SXeWv6F4",
        "outputId": "fd12b3e9-fc66-4440-c4d4-84406791b01c"
      },
      "source": [
        "# Import your necessary dependencies\n",
        "from sklearn.feature_selection import RFE\n",
        "from sklearn.svm import SVR\n",
        "from sklearn.linear_model import LogisticRegression\n",
        "\n",
        "estimator = SVR(kernel=\"linear\")\n",
        "selector = RFE(estimator, n_features_to_select=4, step=1)\n",
        "selector = selector.fit(X_train, y_train)\n",
        "selector.support_\n",
        "rank=selector.ranking_\n",
        "print(rank)\n"
      ],
      "execution_count": 10,
      "outputs": [
        {
          "output_type": "stream",
          "text": [
            "[1 1 3 4 5 1 1 2]\n"
          ],
          "name": "stdout"
        }
      ]
    },
    {
      "cell_type": "code",
      "metadata": {
        "colab": {
          "base_uri": "https://localhost:8080/"
        },
        "id": "mhkqH8LtPTg_",
        "outputId": "85c6a1d7-fa39-4a63-b846-b5d890a0ee0a"
      },
      "source": [
        "\n",
        "# drop all columns not '1'\n",
        "X_1 = data.drop(data.columns[8], axis=1)  # get rid of 'class'\n",
        "for i in range(7):\n",
        "    if rank[i] != 1:\n",
        "        X_1 = X_1.drop(X_1.columns[i], axis=1)\n",
        "\n",
        "perf = train_and_measure_performance(X_1, y)\n",
        "print (f'Accuracy with best features using RFE is {perf}')"
      ],
      "execution_count": 11,
      "outputs": [
        {
          "output_type": "stream",
          "text": [
            "Accuracy with best features using RFE is 0.7445887445887446\n"
          ],
          "name": "stdout"
        }
      ]
    },
    {
      "cell_type": "code",
      "metadata": {
        "colab": {
          "base_uri": "https://localhost:8080/"
        },
        "id": "Su0DKjpNSgJs",
        "outputId": "a09402d5-9191-4bf8-a061-ed61f000220f"
      },
      "source": [
        "nof=8\n",
        "nof_list=np.arange(1,nof)            \n",
        "high_score=0\n",
        "from sklearn.linear_model import LinearRegression\n",
        "\n",
        "score_list =[]\n",
        "for n in range(nof-1):\n",
        "    model = LinearRegression()\n",
        "    rfe = RFE(model,nof_list[n])\n",
        "    X_train_rfe = rfe.fit_transform(X_train,y_train)\n",
        "    X_test_rfe = rfe.transform(X_test)\n",
        "    model.fit(X_train_rfe,y_train)\n",
        "    score = model.score(X_test_rfe,y_test)\n",
        "    score_list.append(score)\n",
        "    if(score>high_score):\n",
        "        high_score = score\n",
        "        nof = nof_list[n]\n",
        "\n",
        "print(\"Optimum number of features: %d\" %nof)\n",
        "print(\"Score with %d features: %f\" % (nof, high_score))"
      ],
      "execution_count": 12,
      "outputs": [
        {
          "output_type": "stream",
          "text": [
            "Optimum number of features: 4\n",
            "Score with 4 features: 0.298316\n"
          ],
          "name": "stdout"
        }
      ]
    },
    {
      "cell_type": "code",
      "metadata": {
        "colab": {
          "base_uri": "https://localhost:8080/",
          "height": 675
        },
        "id": "Ovr0LZ1MdOvj",
        "outputId": "f4f9ea30-78fe-4d16-f668-5030f6ee927b"
      },
      "source": [
        "from sklearn.linear_model import LassoCV\n",
        "\n",
        "reg = LassoCV()\n",
        "reg.fit(X_train, y_train)\n",
        "print(\"Best alpha using built-in LassoCV: %f\" % reg.alpha_)\n",
        "print(\"Best score using built-in LassoCV: %f\" %reg.score(X,y))\n",
        "\n",
        "coef = pd.Series(reg.coef_, index = data.columns[0:8])\n",
        "\n",
        "print(\"Lasso picked \" + str(sum(coef != 0)) + \" variables and eliminated the other \" +  str(sum(coef == 0)) + \" variables\")\n",
        "\n",
        "imp_coef = coef.sort_values()\n",
        "import matplotlib\n",
        "matplotlib.rcParams['figure.figsize'] = (8.0, 10.0)\n",
        "imp_coef.plot(kind = \"barh\")\n",
        "plt.title(\"Feature importance using Lasso Model\")\n"
      ],
      "execution_count": 13,
      "outputs": [
        {
          "output_type": "stream",
          "text": [
            "Best alpha using built-in LassoCV: 0.020738\n",
            "Best score using built-in LassoCV: 0.291466\n",
            "Lasso picked 6 variables and eliminated the other 2 variables\n"
          ],
          "name": "stdout"
        },
        {
          "output_type": "execute_result",
          "data": {
            "text/plain": [
              "Text(0.5, 1.0, 'Feature importance using Lasso Model')"
            ]
          },
          "metadata": {
            "tags": []
          },
          "execution_count": 13
        },
        {
          "output_type": "display_data",
          "data": {
            "image/png": "[encoded data removed]",
            "text/plain": [
              "<Figure size 576x720 with 1 Axes>"
            ]
          },
          "metadata": {
            "tags": [],
            "needs_background": "light"
          }
        }
      ]
    },
    {
      "cell_type": "markdown",
      "metadata": {
        "id": "EMSQp97agRrG"
      },
      "source": [
        ""
      ]
    }
  ]
}