{
  "nbformat": 4,
  "nbformat_minor": 0,
  "metadata": {
    "colab": {
      "name": "FeatureSelection.ipynb",
      "provenance": [],
      "collapsed_sections": [],
      "include_colab_link": true
    },
    "kernelspec": {
      "name": "python3",
      "display_name": "Python 3"
    }
  },
  "cells": [
    {
      "cell_type": "markdown",
      "metadata": {
        "id": "view-in-github",
        "colab_type": "text"
      },
      "source": [
        "<a href=\"https://colab.research.google.com/github/slowvak/FeatureSelectionTutorial/blob/main/FeatureSelection.ipynb\" target=\"_parent\"><img src=\"https://colab.research.google.com/assets/colab-badge.svg\" alt=\"Open In Colab\"/></a>"
      ]
    },
    {
      "cell_type": "markdown",
      "metadata": {
        "id": "JyG45Qk3qQLS"
      },
      "source": [
        "# A bit about Colab (Jupyter) Notebooks and Cells\n",
        "A notebook is a list of cells. Cells contain either explanatory text or executable code and its output. Click a cell to select it."
      ]
    },
    {
      "cell_type": "markdown",
      "metadata": {
        "id": "KR921S_OQSHG"
      },
      "source": [
        "## Code cells\n",
        "Below is a **code cell**. Click in the cell to select it and execute the contents in the following ways:\n",
        "\n",
        "* Click the **Play icon** in the left gutter of the cell;\n",
        "* Type **Cmd/Ctrl+Enter** to run the cell in place;\n",
        "* Type **Shift+Enter** to run the cell and move focus to the next cell (adding one if none exists); or\n",
        "* Type **Alt+Enter** to run the cell and insert a new code cell immediately below it.\n",
        "\n",
        "There are additional options for running some or all cells in the **Runtime** menu.\n"
      ]
    },
    {
      "cell_type": "code",
      "metadata": {
        "cellView": "both",
        "colab": {
          "base_uri": "https://localhost:8080/"
        },
        "id": "WUtu4316QSHL",
        "outputId": "6b12d483-bdfe-49f0-ece6-84255404dc30"
      },
      "source": [
        "a = 10\n",
        "a"
      ],
      "execution_count": null,
      "outputs": [
        {
          "output_type": "execute_result",
          "data": {
            "text/plain": [
              "10"
            ]
          },
          "metadata": {
            "tags": []
          },
          "execution_count": 3
        }
      ]
    },
    {
      "cell_type": "markdown",
      "metadata": {
        "id": "Id6tDF1HQSHD"
      },
      "source": [
        "## Text cells\n",
        "This is a **text cell**. You can **double-click** to edit this cell. Text cells\n",
        "use markdown syntax. To learn more, see  [markdown\n",
        "guide](/notebooks/markdown_guide.ipynb).\n",
        "\n"
      ]
    },
    {
      "cell_type": "markdown",
      "metadata": {
        "id": "7bqjkGKwQSHW"
      },
      "source": [
        "## Adding and moving cells\n",
        "You can add new cells by using the **+ CODE** and **+ TEXT** buttons that are near the menu and also show when you hover between cells. These buttons add a cell below the currently selected cell.\n",
        "\n",
        "You can move a cell by selecting it and clicking **Cell Up** or **Cell Down** in the top toolbar or the up/down arrows in the toolbar at the upper right of a selected cell. \n",
        "\n",
        "Consecutive cells can be selected by \"lasso selection\" by dragging from outside one cell and through the group.  Non-adjacent cells can be selected concurrently by clicking one and then holding down Ctrl while clicking another.  Similarly, using Shift instead of Ctrl will select all intermediate cells."
      ]
    },
    {
      "cell_type": "markdown",
      "metadata": {
        "id": "GOwlZRXEQSHZ"
      },
      "source": [
        "# Working with python\n",
        "Colaboratory is built on top of [Jupyter Notebook](https://jupyter.org/). Below are some examples of convenience functions provided."
      ]
    },
    {
      "cell_type": "markdown",
      "metadata": {
        "id": "RVuqWUXPQSHa"
      },
      "source": [
        "A cell can be interrupted using the menu entry **Runtime -> Interrupt execution** (*hotkey: Cmd/Ctrl-M I*) to stop execution.\r\n",
        "Try it by running the cell below, and then interrupting it."
      ]
    },
    {
      "cell_type": "code",
      "metadata": {
        "cellView": "both",
        "colab": {
          "base_uri": "https://localhost:8080/"
        },
        "id": "d-S-3nYLQSHb",
        "outputId": "35ad04fb-a48f-459b-8c34-14e0b58edc05"
      },
      "source": [
        "import time\n",
        "print(\"Sleeping--try to interrupt my sleep!\")\n",
        "time.sleep(30) # sleep for a while; interrupt me quick!\n",
        "print(\"Done Sleeping\")"
      ],
      "execution_count": null,
      "outputs": [
        {
          "output_type": "stream",
          "text": [
            "Sleeping--try to interrupt my sleep!\n",
            "Done Sleeping\n"
          ],
          "name": "stdout"
        }
      ]
    },
    {
      "cell_type": "markdown",
      "metadata": {
        "id": "7cRnhv_7N4Pa"
      },
      "source": [
        "## Rich, interactive outputs\n",
        "Typically, the generated outputs are text, but they can be more interesting, like the chart below. "
      ]
    },
    {
      "cell_type": "code",
      "metadata": {
        "colab": {
          "base_uri": "https://localhost:8080/",
          "height": 281
        },
        "id": "JVXnTqyE9RET",
        "outputId": "feb5a4b0-d5f5-4242-97a8-fbb578b28e5f"
      },
      "source": [
        "import numpy as np\n",
        "from matplotlib import pyplot as plt\n",
        "\n",
        "ys = 200 + np.random.randn(20)\n",
        "x = [x for x in range(len(ys))]\n",
        "\n",
        "plt.plot(x, ys, '-')\n",
        "plt.fill_between(x, ys, 195, where=(ys > 195), facecolor='g', alpha=0.6)\n",
        "\n",
        "plt.title(\"Fills and Alpha Example\")\n",
        "plt.show()"
      ],
      "execution_count": null,
      "outputs": [
        {
          "output_type": "display_data",
          "data": {
            "image/png": "[encoded data removed]",
            "text/plain": [
              "<Figure size 432x288 with 1 Axes>"
            ]
          },
          "metadata": {
            "tags": [],
            "needs_background": "light"
          }
        }
      ]
    },
    {
      "cell_type": "markdown",
      "metadata": {
        "id": "H3LY7NU6LERS"
      },
      "source": [
        "A unique feature of notebooks and cells that that the notebook 'remembers' what has been done up to that point. And you can run a cell, change something in that cell, and run it again (presumably to fix a problem in that cell). \r\n",
        "\r\n",
        "Modify the cell above to change it so 200 random numbers are plotted (change the '20' in the randn call to '200'). Then run the cell again and note the change. Note also that the number in brackets has increased--this shows to some degree--the sequence that cells were executed."
      ]
    },
    {
      "cell_type": "markdown",
      "metadata": {
        "id": "tODtqV5MZALR"
      },
      "source": [
        "#Feature Selection\n",
        "  Now we are ready to begin working on the specific topic at hand: feature selection.\n",
        "It uses the Pima Indians Diabetes Database.\n"
      ]
    },
    {
      "cell_type": "markdown",
      "metadata": {
        "id": "VN0x-3rwPALD"
      },
      "source": [
        "First we need to get our data. Notebooks allow us to execute computer commands (e.g. not Python). 'wget' is a command that will get resources from the web. In this case, it is a file I have stored on my Dropbox."
      ]
    },
    {
      "cell_type": "code",
      "metadata": {
        "colab": {
          "base_uri": "https://localhost:8080/"
        },
        "id": "QU2f05csZPqd",
        "outputId": "b305120e-0bf7-4b77-fb3c-1bb6e3d35ea6"
      },
      "source": [
        "!wget -O diabetes.csv \"https://www.dropbox.com/s/hr9b5rkjblrtu44/pima-indians-diabetes.csv?dl=1\"\n"
      ],
      "execution_count": null,
      "outputs": [
        {
          "output_type": "stream",
          "text": [
            "--2021-02-14 20:51:47--  https://www.dropbox.com/s/hr9b5rkjblrtu44/pima-indians-diabetes.csv?dl=1\n",
            "Resolving www.dropbox.com (www.dropbox.com)... 162.125.3.18, 2620:100:601b:18::a27d:812\n",
            "Connecting to www.dropbox.com (www.dropbox.com)|162.125.3.18|:443... connected.\n",
            "HTTP request sent, awaiting response... 301 Moved Permanently\n",
            "Location: /s/dl/hr9b5rkjblrtu44/pima-indians-diabetes.csv [following]\n",
            "--2021-02-14 20:51:47--  https://www.dropbox.com/s/dl/hr9b5rkjblrtu44/pima-indians-diabetes.csv\n",
            "Reusing existing connection to www.dropbox.com:443.\n",
            "HTTP request sent, awaiting response... 302 Found\n",
            "Location: https://ucc1aa476d15f925b50c05a49d50.dl.dropboxusercontent.com/cd/0/get/BI8Mvce7gNinAD5riTh9bpupmFEj7m8hAPGbj5f-EO6r3uH-ZHnzr1T8DaXrjt4aNCPsJRRWtIYv9br2iQv7l8MyYE6yaqT3onymW87s7u2r6ISAvZ_0CHmsXXS9qES4AQ8/file?dl=1# [following]\n",
            "--2021-02-14 20:51:48--  https://ucc1aa476d15f925b50c05a49d50.dl.dropboxusercontent.com/cd/0/get/BI8Mvce7gNinAD5riTh9bpupmFEj7m8hAPGbj5f-EO6r3uH-ZHnzr1T8DaXrjt4aNCPsJRRWtIYv9br2iQv7l8MyYE6yaqT3onymW87s7u2r6ISAvZ_0CHmsXXS9qES4AQ8/file?dl=1\n",
            "Resolving ucc1aa476d15f925b50c05a49d50.dl.dropboxusercontent.com (ucc1aa476d15f925b50c05a49d50.dl.dropboxusercontent.com)... 162.125.3.15, 2620:100:601b:15::a27d:80f\n",
            "Connecting to ucc1aa476d15f925b50c05a49d50.dl.dropboxusercontent.com (ucc1aa476d15f925b50c05a49d50.dl.dropboxusercontent.com)|162.125.3.15|:443... connected.\n",
            "HTTP request sent, awaiting response... 200 OK\n",
            "Length: 23870 (23K) [application/binary]\n",
            "Saving to: ‘diabetes.csv’\n",
            "\n",
            "diabetes.csv        100%[===================>]  23.31K  --.-KB/s    in 0.01s   \n",
            "\n",
            "2021-02-14 20:51:48 (2.29 MB/s) - ‘diabetes.csv’ saved [23870/23870]\n",
            "\n"
          ],
          "name": "stdout"
        }
      ]
    },
    {
      "cell_type": "code",
      "metadata": {
        "id": "HwdULv8jY78Q"
      },
      "source": [
        "import pandas as pd\n",
        "import numpy as np"
      ],
      "execution_count": null,
      "outputs": []
    },
    {
      "cell_type": "markdown",
      "metadata": {
        "id": "xrnlsx3yPeaK"
      },
      "source": [
        "Now we ***import*** two libraries that provide important data handling capabilities--first being **pandas**, which will read in a CSV (Comma Separated Values) file and use it to fill a **dataframe**. The file also has a first row which describes the data in each column. Pandas is 'smart' enough to recognize this. **Numpy** is a library for numerical computations on arrays.\r\n",
        "  The 'as' part of the import command allows us to use our own name for any module that we import. 'pd' and 'np' are very common abbreviations used for pandas and numpy.\r\n",
        "\r\n",
        "**Interesting Side Note: **  Numpy was written by former Mayo Graduate Student Travis Oliphant. https://en.wikipedia.org/wiki/Travis_Oliphant"
      ]
    },
    {
      "cell_type": "code",
      "metadata": {
        "colab": {
          "base_uri": "https://localhost:8080/",
          "height": 419
        },
        "id": "7SvmUIleZibg",
        "outputId": "61b2e71b-9794-4526-c1a5-fdf2e8459101"
      },
      "source": [
        "data = pd.read_csv(\"diabetes.csv\")\n",
        "# print out the first few lines to make sure we got the data and that it looks reasonable\n",
        "\n",
        "data \n"
      ],
      "execution_count": null,
      "outputs": [
        {
          "output_type": "execute_result",
          "data": {
            "text/html": [
              "<div>\n",
              "<style scoped>\n",
              "    .dataframe tbody tr th:only-of-type {\n",
              "        vertical-align: middle;\n",
              "    }\n",
              "\n",
              "    .dataframe tbody tr th {\n",
              "        vertical-align: top;\n",
              "    }\n",
              "\n",
              "    .dataframe thead th {\n",
              "        text-align: right;\n",
              "    }\n",
              "</style>\n",
              "<table border=\"1\" class=\"dataframe\">\n",
              "  <thead>\n",
              "    <tr style=\"text-align: right;\">\n",
              "      <th></th>\n",
              "      <th>Pregnances</th>\n",
              "      <th>Glucose</th>\n",
              "      <th>BloodPressure</th>\n",
              "      <th>SkinThickness</th>\n",
              "      <th>Insulin</th>\n",
              "      <th>BMI</th>\n",
              "      <th>DiabetesPedigreeFunction</th>\n",
              "      <th>Age</th>\n",
              "      <th>Class</th>\n",
              "    </tr>\n",
              "  </thead>\n",
              "  <tbody>\n",
              "    <tr>\n",
              "      <th>0</th>\n",
              "      <td>6</td>\n",
              "      <td>148</td>\n",
              "      <td>72</td>\n",
              "      <td>35</td>\n",
              "      <td>0</td>\n",
              "      <td>33.6</td>\n",
              "      <td>0.627</td>\n",
              "      <td>50</td>\n",
              "      <td>1</td>\n",
              "    </tr>\n",
              "    <tr>\n",
              "      <th>1</th>\n",
              "      <td>1</td>\n",
              "      <td>85</td>\n",
              "      <td>66</td>\n",
              "      <td>29</td>\n",
              "      <td>0</td>\n",
              "      <td>26.6</td>\n",
              "      <td>0.351</td>\n",
              "      <td>31</td>\n",
              "      <td>0</td>\n",
              "    </tr>\n",
              "    <tr>\n",
              "      <th>2</th>\n",
              "      <td>8</td>\n",
              "      <td>183</td>\n",
              "      <td>64</td>\n",
              "      <td>0</td>\n",
              "      <td>0</td>\n",
              "      <td>23.3</td>\n",
              "      <td>0.672</td>\n",
              "      <td>32</td>\n",
              "      <td>1</td>\n",
              "    </tr>\n",
              "    <tr>\n",
              "      <th>3</th>\n",
              "      <td>1</td>\n",
              "      <td>89</td>\n",
              "      <td>66</td>\n",
              "      <td>23</td>\n",
              "      <td>94</td>\n",
              "      <td>28.1</td>\n",
              "      <td>0.167</td>\n",
              "      <td>21</td>\n",
              "      <td>0</td>\n",
              "    </tr>\n",
              "    <tr>\n",
              "      <th>4</th>\n",
              "      <td>0</td>\n",
              "      <td>137</td>\n",
              "      <td>40</td>\n",
              "      <td>35</td>\n",
              "      <td>168</td>\n",
              "      <td>43.1</td>\n",
              "      <td>2.288</td>\n",
              "      <td>33</td>\n",
              "      <td>1</td>\n",
              "    </tr>\n",
              "    <tr>\n",
              "      <th>...</th>\n",
              "      <td>...</td>\n",
              "      <td>...</td>\n",
              "      <td>...</td>\n",
              "      <td>...</td>\n",
              "      <td>...</td>\n",
              "      <td>...</td>\n",
              "      <td>...</td>\n",
              "      <td>...</td>\n",
              "      <td>...</td>\n",
              "    </tr>\n",
              "    <tr>\n",
              "      <th>763</th>\n",
              "      <td>10</td>\n",
              "      <td>101</td>\n",
              "      <td>76</td>\n",
              "      <td>48</td>\n",
              "      <td>180</td>\n",
              "      <td>32.9</td>\n",
              "      <td>0.171</td>\n",
              "      <td>63</td>\n",
              "      <td>0</td>\n",
              "    </tr>\n",
              "    <tr>\n",
              "      <th>764</th>\n",
              "      <td>2</td>\n",
              "      <td>122</td>\n",
              "      <td>70</td>\n",
              "      <td>27</td>\n",
              "      <td>0</td>\n",
              "      <td>36.8</td>\n",
              "      <td>0.340</td>\n",
              "      <td>27</td>\n",
              "      <td>0</td>\n",
              "    </tr>\n",
              "    <tr>\n",
              "      <th>765</th>\n",
              "      <td>5</td>\n",
              "      <td>121</td>\n",
              "      <td>72</td>\n",
              "      <td>23</td>\n",
              "      <td>112</td>\n",
              "      <td>26.2</td>\n",
              "      <td>0.245</td>\n",
              "      <td>30</td>\n",
              "      <td>0</td>\n",
              "    </tr>\n",
              "    <tr>\n",
              "      <th>766</th>\n",
              "      <td>1</td>\n",
              "      <td>126</td>\n",
              "      <td>60</td>\n",
              "      <td>0</td>\n",
              "      <td>0</td>\n",
              "      <td>30.1</td>\n",
              "      <td>0.349</td>\n",
              "      <td>47</td>\n",
              "      <td>1</td>\n",
              "    </tr>\n",
              "    <tr>\n",
              "      <th>767</th>\n",
              "      <td>1</td>\n",
              "      <td>93</td>\n",
              "      <td>70</td>\n",
              "      <td>31</td>\n",
              "      <td>0</td>\n",
              "      <td>30.4</td>\n",
              "      <td>0.315</td>\n",
              "      <td>23</td>\n",
              "      <td>0</td>\n",
              "    </tr>\n",
              "  </tbody>\n",
              "</table>\n",
              "<p>768 rows × 9 columns</p>\n",
              "</div>"
            ],
            "text/plain": [
              "     Pregnances  Glucose  BloodPressure  ...  DiabetesPedigreeFunction  Age  Class\n",
              "0             6      148             72  ...                     0.627   50      1\n",
              "1             1       85             66  ...                     0.351   31      0\n",
              "2             8      183             64  ...                     0.672   32      1\n",
              "3             1       89             66  ...                     0.167   21      0\n",
              "4             0      137             40  ...                     2.288   33      1\n",
              "..          ...      ...            ...  ...                       ...  ...    ...\n",
              "763          10      101             76  ...                     0.171   63      0\n",
              "764           2      122             70  ...                     0.340   27      0\n",
              "765           5      121             72  ...                     0.245   30      0\n",
              "766           1      126             60  ...                     0.349   47      1\n",
              "767           1       93             70  ...                     0.315   23      0\n",
              "\n",
              "[768 rows x 9 columns]"
            ]
          },
          "metadata": {
            "tags": []
          },
          "execution_count": 11
        }
      ]
    },
    {
      "cell_type": "markdown",
      "metadata": {
        "id": "DxpdF7b8NY24"
      },
      "source": [
        "The last line here--'data'--is what prineted out the first few and the last few lines in the pandas dataframe called 'data'. This is a unique jupyter notebook function--if you just have a variable name, it will print it out. But it only is the last variable.  Remember up above you defined the variable 'a'? Add 'a' to line 5 and run the cell again. Now the data dataframe will not be printed, and instead, '10' will be printed since that is the value of a. This will not work in 'true' Python code.\r\n",
        "\r\n",
        "\r\n",
        "Next we import modules for visualizing data and making plots. \r\n",
        "Here will do a quick plot to see the correlation coefficients of the various features in the data. "
      ]
    },
    {
      "cell_type": "code",
      "metadata": {
        "colab": {
          "base_uri": "https://localhost:8080/",
          "height": 716
        },
        "id": "E65snQJYaEce",
        "outputId": "230015c3-79f2-4944-cffc-d0bd4e003ed0"
      },
      "source": [
        "import matplotlib\n",
        "import matplotlib.pyplot as plt\n",
        "import seaborn as sns\n",
        "\n",
        "#Lets look at how much the various features are correlated using Pearson Correlation\n",
        "plt.figure(figsize=(12,10))\n",
        "cor = data.corr()\n",
        "sns.heatmap(cor, annot=True, cmap=plt.cm.Reds)\n",
        "plt.show()"
      ],
      "execution_count": null,
      "outputs": [
        {
          "output_type": "display_data",
          "data": {
            "image/png": "[encoded data removed]",
            "text/plain": [
              "<Figure size 864x720 with 2 Axes>"
            ]
          },
          "metadata": {
            "tags": [],
            "needs_background": "light"
          }
        }
      ]
    },
    {
      "cell_type": "markdown",
      "metadata": {
        "id": "ecDU_SWerUzn"
      },
      "source": [
        "To do machine learning, we must convert the dataframe into a set of feature vectors (usually called 'X') and the class or label which we will call 'y', which in our case is 1-diabetic 0-not diabetic.\n"
      ]
    },
    {
      "cell_type": "code",
      "metadata": {
        "colab": {
          "base_uri": "https://localhost:8080/"
        },
        "id": "zFAcUoporTc5",
        "outputId": "c2ede66a-1015-4c36-ae4a-3bdd068a8327"
      },
      "source": [
        "array = data.values\n",
        "X = array[:,0:8]\n",
        "y = array[:,8]\n",
        "\n",
        "#print out the shape of the X feature array--number of features and number of rows/examples\n",
        "X.shape"
      ],
      "execution_count": null,
      "outputs": [
        {
          "output_type": "execute_result",
          "data": {
            "text/plain": [
              "(768, 8)"
            ]
          },
          "metadata": {
            "tags": []
          },
          "execution_count": 13
        }
      ]
    },
    {
      "cell_type": "markdown",
      "metadata": {
        "id": "WxTZpUi_1mZr"
      },
      "source": [
        "Note it also has 768 rows (note this is rows/cols not x,y). But there is 1 less column. Why is there 1 less and how did that happen?\n",
        "\n",
        "\n",
        "Now with our data organized, we can try training a classifier. We will start with that to show the impact of feature selection. We will use a support vector machine (SVM) which is a popular traditional machine learning method. We also need to split data into a set used to train the SVM, and a hold-out set to see how well it worked (the 'test' set). \n",
        "\n",
        "sklearn is a very comprehence library of machine learning algorithms. (https://scikit-learn.org/stable/)  There are other scikit libraries such as for image manipulation, statistics, engineering, etc. SciPy.org is the host site.\n"
      ]
    },
    {
      "cell_type": "code",
      "metadata": {
        "colab": {
          "base_uri": "https://localhost:8080/"
        },
        "id": "pOXYnmET2Tzn",
        "outputId": "ed2021cc-881a-41a4-f476-8322ecca7926"
      },
      "source": [
        "#Import svm model\n",
        "# Import train_test_split function\n",
        "from sklearn.model_selection import train_test_split\n",
        "from sklearn import metrics\n",
        "from sklearn import svm\n",
        "\n",
        "# define a function that will train a classifier and then measure performance\n",
        "\n",
        "def train_and_measure_performance(X, y):\n",
        "    X_train, X_test, y_train, y_test = train_test_split(X, y, test_size=0.3, random_state=109) # 70% training and 30% test\n",
        "    #Create a svm Classifier\n",
        "    clf = svm.SVC(kernel='linear') # Linear Kernel\n",
        "\n",
        "    #Train the model using the training sets\n",
        "    clf.fit(X_train, y_train)\n",
        "\n",
        "    #Predict the response for test dataset\n",
        "    y_pred = clf.predict(X_test)\n",
        "    # Model Accuracy: how often is the classifier correct?\n",
        "    return (metrics.accuracy_score(y_test, y_pred))\n",
        "\n",
        "baseline_performance = train_and_measure_performance(X, y)\n",
        "print (f'Baseline accruacy with all features is {baseline_performance}')"
      ],
      "execution_count": null,
      "outputs": [
        {
          "output_type": "stream",
          "text": [
            "Baseline accruacy with all features is 0.7402597402597403\n"
          ],
          "name": "stdout"
        }
      ]
    },
    {
      "cell_type": "markdown",
      "metadata": {
        "id": "DU9xp04Nrmhr"
      },
      "source": [
        "Now we will use sklearn feature selection methods. We will start with filter method--Chi Square"
      ]
    },
    {
      "cell_type": "code",
      "metadata": {
        "colab": {
          "base_uri": "https://localhost:8080/"
        },
        "id": "WbpWIQDXtNh6",
        "outputId": "860e4cae-0779-4ac4-8bd9-5a7189643ca3"
      },
      "source": [
        "\n",
        "from sklearn.feature_selection import SelectKBest\n",
        "from sklearn.feature_selection import chi2\n",
        "\n",
        "X_train, X_test, y_train, y_test = train_test_split(X, y, test_size=0.3, random_state=109) # 70% training and 30% test\n",
        "\n",
        "# Feature extraction--select the 4 best features\n",
        "test = SelectKBest(score_func=chi2, k=4)\n",
        "fit = test.fit(X_train, y_train)\n",
        "\n",
        "# Summarize scores\n",
        "np.set_printoptions(precision=3)\n",
        "feature_names = data.columns[0:8]\n",
        "\n",
        "for i, feature in enumerate (feature_names):\n",
        "    print (f'{fit.scores_[i]}, {feature}') \n",
        "#print (feature_names)\n",
        "#print(fit.scores_)\n",
        "\n"
      ],
      "execution_count": null,
      "outputs": [
        {
          "output_type": "stream",
          "text": [
            "87.43079122224427, Pregnances\n",
            "895.4803367623492, Glucose\n",
            "7.70006972896644, BloodPressure\n",
            "10.28703358882846, SkinThickness\n",
            "1138.1827439428018, Insulin\n",
            "77.17341015708607, BMI\n",
            "4.168845212891903, DiabetesPedigreeFunction\n",
            "154.1812563953612, Age\n"
          ],
          "name": "stdout"
        }
      ]
    },
    {
      "cell_type": "markdown",
      "metadata": {
        "id": "q3NQxQs0xIdw"
      },
      "source": [
        "So this means that ranked feature importance is: Insulin, Glucose, Age, BMI, Pregnancies, Skin thickness, BP, Pedigree\r\n",
        "\r\n",
        "But you have to look fairly closely to figure out the order. Can the computer do that for us?  There is a python function called 'sorted' which returns a sorted list of the items in the list. "
      ]
    },
    {
      "cell_type": "code",
      "metadata": {
        "colab": {
          "base_uri": "https://localhost:8080/"
        },
        "id": "6qnRg_KWUuUG",
        "outputId": "c7c3bf0d-501c-49f1-fd15-f276dd44db9f"
      },
      "source": [
        "sorted_scores = sorted(fit.scores_)\r\n",
        "print (sorted_scores)\r\n"
      ],
      "execution_count": null,
      "outputs": [
        {
          "output_type": "stream",
          "text": [
            "[4.168845212891903, 7.70006972896644, 10.28703358882846, 77.17341015708607, 87.43079122224427, 154.1812563953612, 895.4803367623492, 1138.1827439428018]\n"
          ],
          "name": "stdout"
        }
      ]
    },
    {
      "cell_type": "markdown",
      "metadata": {
        "id": "4mTuygBdWEDf"
      },
      "source": [
        "OK--that sorted the list of values, but we need to re-arrange the feature names to match those. In order to do that, we 'zip' the two lists together, then sort, and then print them out."
      ]
    },
    {
      "cell_type": "code",
      "metadata": {
        "colab": {
          "base_uri": "https://localhost:8080/"
        },
        "id": "C10aiEpkVEdx",
        "outputId": "07d2f30c-a1a3-434f-c95a-efb72044fd17"
      },
      "source": [
        "zipped_lists = zip(fit.scores_, feature_names)\r\n",
        "sorted_pairs = sorted(zipped_lists)\r\n",
        "for f, val in sorted_pairs:\r\n",
        "    print (f'{f} - {val}')"
      ],
      "execution_count": null,
      "outputs": [
        {
          "output_type": "stream",
          "text": [
            "4.168845212891903 - DiabetesPedigreeFunction\n",
            "7.70006972896644 - BloodPressure\n",
            "10.28703358882846 - SkinThickness\n",
            "77.17341015708607 - BMI\n",
            "87.43079122224427 - Pregnances\n",
            "154.1812563953612 - Age\n",
            "895.4803367623492 - Glucose\n",
            "1138.1827439428018 - Insulin\n"
          ],
          "name": "stdout"
        }
      ]
    },
    {
      "cell_type": "markdown",
      "metadata": {
        "id": "Wd2kgQYCWh3b"
      },
      "source": [
        "That looks pretty good, except maybe we want 'style points'. See if you can figure out how to reverse the order so the most important is on top. And only show the top 5..."
      ]
    },
    {
      "cell_type": "code",
      "metadata": {
        "colab": {
          "base_uri": "https://localhost:8080/"
        },
        "id": "z4URvvA-3Prk",
        "outputId": "a3660899-bc47-4688-e61f-82e4b260ec3c"
      },
      "source": [
        "# Make a copy of the data for Chi-squared method...\n",
        "#First, need to remove the 'class' column since that is the answer\n",
        "chi_df = data.drop(columns=[\"Class\"])\n",
        "\n",
        "# delete the columns we don't want\n",
        "chi_df = chi_df.drop(columns=[\"BloodPressure\",\"SkinThickness\",\"DiabetesPedigreeFunction\"])\n",
        "\n",
        "d_chi = chi_df.values \n",
        "X_1 = d_chi[:,:]\n",
        "\n",
        "perf = train_and_measure_performance(X_1, y)\n",
        "print (f'Accuracy with best features using Chi-square is {perf}')\n",
        "\n",
        "# TODO: you try adding or removing features and see the impact on performance"
      ],
      "execution_count": null,
      "outputs": [
        {
          "output_type": "stream",
          "text": [
            "Accuracy with best features using Chi-square is 0.7445887445887446\n"
          ],
          "name": "stdout"
        }
      ]
    },
    {
      "cell_type": "markdown",
      "metadata": {
        "id": "MlZzSQINv7CF"
      },
      "source": [
        "Next we will apply a wrapper method--Recursive Feature Elimination or RFE"
      ]
    },
    {
      "cell_type": "code",
      "metadata": {
        "colab": {
          "base_uri": "https://localhost:8080/"
        },
        "id": "xHT9SXeWv6F4",
        "outputId": "0fd031bd-2280-4154-8c2e-205617b97f33"
      },
      "source": [
        "# Import your necessary dependencies\n",
        "from sklearn.feature_selection import RFE\n",
        "from sklearn.svm import SVR\n",
        "from sklearn.linear_model import LogisticRegression\n",
        "\n",
        "estimator = SVR(kernel=\"linear\")\n",
        "# we will ask for the top 4 features\n",
        "selector = RFE(estimator, n_features_to_select=3, step=1)\n",
        "selector = selector.fit(X_train, y_train)\n",
        "print(selector.support_)\n",
        "rank=selector.ranking_\n",
        "print (\"Or if you want to see the ranking of those that didn't make the cut...\")\n",
        "print(rank)\n"
      ],
      "execution_count": null,
      "outputs": [
        {
          "output_type": "stream",
          "text": [
            "[ True False False False False  True  True False]\n",
            "Or if you want to see the ranking of those that didn't make the cut...\n",
            "[1 2 4 5 6 1 1 3]\n"
          ],
          "name": "stdout"
        }
      ]
    },
    {
      "cell_type": "code",
      "metadata": {
        "colab": {
          "base_uri": "https://localhost:8080/"
        },
        "id": "mhkqH8LtPTg_",
        "outputId": "76d326c0-5a60-4dff-9d6c-abe6d023b8d8"
      },
      "source": [
        "\n",
        "# drop all columns not '1'\n",
        "X_1 = data.drop(data.columns[8], axis=1)  # get rid of 'class'\n",
        "for i in range(7):\n",
        "    if selector.support_[i] == False:\n",
        "        X_1 = X_1.drop(X_1.columns[i], axis=1)\n",
        "\n",
        "perf = train_and_measure_performance(X_1, y)\n",
        "print (f'Accuracy with best features using RFE is {perf}')"
      ],
      "execution_count": null,
      "outputs": [
        {
          "output_type": "stream",
          "text": [
            "Accuracy with best features using RFE is 0.6753246753246753\n"
          ],
          "name": "stdout"
        }
      ]
    },
    {
      "cell_type": "code",
      "metadata": {
        "colab": {
          "base_uri": "https://localhost:8080/"
        },
        "id": "Su0DKjpNSgJs",
        "outputId": "a6854136-f1a1-4afb-a201-598d307dde65"
      },
      "source": [
        "# nof - number of features that we have\n",
        "nof=8\n",
        "nof_list=np.arange(1,nof)            \n",
        "high_score=0\n",
        "from sklearn.linear_model import LinearRegression\n",
        "\n",
        "score_list =[]\n",
        "best_nof = 0\n",
        "for n in range(nof-1):\n",
        "    model = LinearRegression()\n",
        "    rfe = RFE(model,nof_list[n])\n",
        "    X_train_rfe = rfe.fit_transform(X_train,y_train)\n",
        "    X_test_rfe = rfe.transform(X_test)\n",
        "    model.fit(X_train_rfe,y_train)\n",
        "    score = model.score(X_test_rfe,y_test)\n",
        "    score_list.append(score)\n",
        "    print(f\"Optimal case: {best_nof} features, scoring {high_score}\")\n",
        "    if(score>high_score):\n",
        "        high_score = score\n",
        "        best_nof = nof_list[n]\n",
        "\n",
        "print(f\"Optimal case: {nof} features, scoring {high_score}\")"
      ],
      "execution_count": null,
      "outputs": [
        {
          "output_type": "stream",
          "text": [
            "Optimal case: 0 features, scoring 0\n",
            "Optimal case: 1 features, scoring 0.02809288404839605\n",
            "Optimal case: 2 features, scoring 0.07273668864458915\n",
            "Optimal case: 3 features, scoring 0.14942647398600928\n",
            "Optimal case: 4 features, scoring 0.2983161933716696\n",
            "Optimal case: 4 features, scoring 0.2983161933716696\n",
            "Optimal case: 4 features, scoring 0.2983161933716696\n",
            "Optimal case: 8 features, scoring 0.2983161933716696\n"
          ],
          "name": "stdout"
        }
      ]
    },
    {
      "cell_type": "code",
      "metadata": {
        "colab": {
          "base_uri": "https://localhost:8080/",
          "height": 675
        },
        "id": "Ovr0LZ1MdOvj",
        "outputId": "0cd20a43-bd41-4e0e-c47d-289d7f057dcb"
      },
      "source": [
        "from sklearn.linear_model import LassoCV\n",
        "\n",
        "reg = LassoCV()\n",
        "reg.fit(X_train, y_train)\n",
        "print(\"Best alpha using built-in LassoCV: %f\" % reg.alpha_)\n",
        "print(\"Best score using built-in LassoCV: %f\" %reg.score(X,y))\n",
        "\n",
        "coef = pd.Series(reg.coef_, index = data.columns[0:8])\n",
        "\n",
        "print(\"Lasso picked \" + str(sum(coef != 0)) + \" variables and eliminated the other \" +  str(sum(coef == 0)) + \" variables\")\n",
        "\n",
        "imp_coef = coef.sort_values()\n",
        "import matplotlib\n",
        "matplotlib.rcParams['figure.figsize'] = (8.0, 10.0)\n",
        "imp_coef.plot(kind = \"barh\")\n",
        "plt.title(\"Feature importance using Lasso Model\")\n"
      ],
      "execution_count": null,
      "outputs": [
        {
          "output_type": "stream",
          "text": [
            "Best alpha using built-in LassoCV: 0.020738\n",
            "Best score using built-in LassoCV: 0.291466\n",
            "Lasso picked 6 variables and eliminated the other 2 variables\n"
          ],
          "name": "stdout"
        },
        {
          "output_type": "execute_result",
          "data": {
            "text/plain": [
              "Text(0.5, 1.0, 'Feature importance using Lasso Model')"
            ]
          },
          "metadata": {
            "tags": []
          },
          "execution_count": 16
        },
        {
          "output_type": "display_data",
          "data": {
            "image/png": "[encoded data removed]",
            "text/plain": [
              "<Figure size 576x720 with 1 Axes>"
            ]
          },
          "metadata": {
            "tags": [],
            "needs_background": "light"
          }
        }
      ]
    },
    {
      "cell_type": "markdown",
      "metadata": {
        "id": "EMSQp97agRrG"
      },
      "source": [
        ""
      ]
    }
  ]
}